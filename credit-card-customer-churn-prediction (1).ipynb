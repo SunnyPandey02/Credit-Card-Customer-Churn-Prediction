{
 "cells": [
  {
   "cell_type": "code",
   "execution_count": 1,
   "id": "127661cf",
   "metadata": {
    "_cell_guid": "b1076dfc-b9ad-4769-8c92-a6c4dae69d19",
    "_uuid": "8f2839f25d086af736a60e9eeb907d3b93b6e0e5",
    "execution": {
     "iopub.execute_input": "2024-05-03T12:51:37.689919Z",
     "iopub.status.busy": "2024-05-03T12:51:37.689365Z",
     "iopub.status.idle": "2024-05-03T12:51:38.804126Z",
     "shell.execute_reply": "2024-05-03T12:51:38.802711Z"
    },
    "papermill": {
     "duration": 1.130776,
     "end_time": "2024-05-03T12:51:38.806984",
     "exception": false,
     "start_time": "2024-05-03T12:51:37.676208",
     "status": "completed"
    },
    "tags": []
   },
   "outputs": [
    {
     "name": "stdout",
     "output_type": "stream",
     "text": [
      "/kaggle/input/credit-card-customer-churn-prediction/Churn_Modelling.csv\n"
     ]
    }
   ],
   "source": [
    "# This Python 3 environment comes with many helpful analytics libraries installed\n",
    "# It is defined by the kaggle/python Docker image: https://github.com/kaggle/docker-python\n",
    "# For example, here's several helpful packages to load\n",
    "\n",
    "import numpy as np # linear algebra\n",
    "import pandas as pd # data processing, CSV file I/O (e.g. pd.read_csv)\n",
    "\n",
    "# Input data files are available in the read-only \"../input/\" directory\n",
    "# For example, running this (by clicking run or pressing Shift+Enter) will list all files under the input directory\n",
    "\n",
    "import os\n",
    "for dirname, _, filenames in os.walk('/kaggle/input'):\n",
    "    for filename in filenames:\n",
    "        print(os.path.join(dirname, filename))\n",
    "\n",
    "# You can write up to 20GB to the current directory (/kaggle/working/) that gets preserved as output when you create a version using \"Save & Run All\" \n",
    "# You can also write temporary files to /kaggle/temp/, but they won't be saved outside of the current session"
   ]
  },
  {
   "cell_type": "code",
   "execution_count": 2,
   "id": "7e8185d1",
   "metadata": {
    "execution": {
     "iopub.execute_input": "2024-05-03T12:51:38.832675Z",
     "iopub.status.busy": "2024-05-03T12:51:38.831211Z",
     "iopub.status.idle": "2024-05-03T12:51:38.895246Z",
     "shell.execute_reply": "2024-05-03T12:51:38.893917Z"
    },
    "papermill": {
     "duration": 0.079587,
     "end_time": "2024-05-03T12:51:38.898416",
     "exception": false,
     "start_time": "2024-05-03T12:51:38.818829",
     "status": "completed"
    },
    "tags": []
   },
   "outputs": [],
   "source": [
    "df=pd.read_csv(\"/kaggle/input/credit-card-customer-churn-prediction/Churn_Modelling.csv\")"
   ]
  },
  {
   "cell_type": "code",
   "execution_count": 3,
   "id": "c7254f77",
   "metadata": {
    "execution": {
     "iopub.execute_input": "2024-05-03T12:51:38.923608Z",
     "iopub.status.busy": "2024-05-03T12:51:38.922766Z",
     "iopub.status.idle": "2024-05-03T12:51:38.955151Z",
     "shell.execute_reply": "2024-05-03T12:51:38.953960Z"
    },
    "papermill": {
     "duration": 0.047976,
     "end_time": "2024-05-03T12:51:38.958129",
     "exception": false,
     "start_time": "2024-05-03T12:51:38.910153",
     "status": "completed"
    },
    "tags": []
   },
   "outputs": [
    {
     "data": {
      "text/html": [
       "<div>\n",
       "<style scoped>\n",
       "    .dataframe tbody tr th:only-of-type {\n",
       "        vertical-align: middle;\n",
       "    }\n",
       "\n",
       "    .dataframe tbody tr th {\n",
       "        vertical-align: top;\n",
       "    }\n",
       "\n",
       "    .dataframe thead th {\n",
       "        text-align: right;\n",
       "    }\n",
       "</style>\n",
       "<table border=\"1\" class=\"dataframe\">\n",
       "  <thead>\n",
       "    <tr style=\"text-align: right;\">\n",
       "      <th></th>\n",
       "      <th>RowNumber</th>\n",
       "      <th>CustomerId</th>\n",
       "      <th>Surname</th>\n",
       "      <th>CreditScore</th>\n",
       "      <th>Geography</th>\n",
       "      <th>Gender</th>\n",
       "      <th>Age</th>\n",
       "      <th>Tenure</th>\n",
       "      <th>Balance</th>\n",
       "      <th>NumOfProducts</th>\n",
       "      <th>HasCrCard</th>\n",
       "      <th>IsActiveMember</th>\n",
       "      <th>EstimatedSalary</th>\n",
       "      <th>Exited</th>\n",
       "    </tr>\n",
       "  </thead>\n",
       "  <tbody>\n",
       "    <tr>\n",
       "      <th>0</th>\n",
       "      <td>1</td>\n",
       "      <td>15634602</td>\n",
       "      <td>Hargrave</td>\n",
       "      <td>619</td>\n",
       "      <td>France</td>\n",
       "      <td>Female</td>\n",
       "      <td>42</td>\n",
       "      <td>2</td>\n",
       "      <td>0.00</td>\n",
       "      <td>1</td>\n",
       "      <td>1</td>\n",
       "      <td>1</td>\n",
       "      <td>101348.88</td>\n",
       "      <td>1</td>\n",
       "    </tr>\n",
       "    <tr>\n",
       "      <th>1</th>\n",
       "      <td>2</td>\n",
       "      <td>15647311</td>\n",
       "      <td>Hill</td>\n",
       "      <td>608</td>\n",
       "      <td>Spain</td>\n",
       "      <td>Female</td>\n",
       "      <td>41</td>\n",
       "      <td>1</td>\n",
       "      <td>83807.86</td>\n",
       "      <td>1</td>\n",
       "      <td>0</td>\n",
       "      <td>1</td>\n",
       "      <td>112542.58</td>\n",
       "      <td>0</td>\n",
       "    </tr>\n",
       "    <tr>\n",
       "      <th>2</th>\n",
       "      <td>3</td>\n",
       "      <td>15619304</td>\n",
       "      <td>Onio</td>\n",
       "      <td>502</td>\n",
       "      <td>France</td>\n",
       "      <td>Female</td>\n",
       "      <td>42</td>\n",
       "      <td>8</td>\n",
       "      <td>159660.80</td>\n",
       "      <td>3</td>\n",
       "      <td>1</td>\n",
       "      <td>0</td>\n",
       "      <td>113931.57</td>\n",
       "      <td>1</td>\n",
       "    </tr>\n",
       "    <tr>\n",
       "      <th>3</th>\n",
       "      <td>4</td>\n",
       "      <td>15701354</td>\n",
       "      <td>Boni</td>\n",
       "      <td>699</td>\n",
       "      <td>France</td>\n",
       "      <td>Female</td>\n",
       "      <td>39</td>\n",
       "      <td>1</td>\n",
       "      <td>0.00</td>\n",
       "      <td>2</td>\n",
       "      <td>0</td>\n",
       "      <td>0</td>\n",
       "      <td>93826.63</td>\n",
       "      <td>0</td>\n",
       "    </tr>\n",
       "    <tr>\n",
       "      <th>4</th>\n",
       "      <td>5</td>\n",
       "      <td>15737888</td>\n",
       "      <td>Mitchell</td>\n",
       "      <td>850</td>\n",
       "      <td>Spain</td>\n",
       "      <td>Female</td>\n",
       "      <td>43</td>\n",
       "      <td>2</td>\n",
       "      <td>125510.82</td>\n",
       "      <td>1</td>\n",
       "      <td>1</td>\n",
       "      <td>1</td>\n",
       "      <td>79084.10</td>\n",
       "      <td>0</td>\n",
       "    </tr>\n",
       "  </tbody>\n",
       "</table>\n",
       "</div>"
      ],
      "text/plain": [
       "   RowNumber  CustomerId   Surname  CreditScore Geography  Gender  Age  \\\n",
       "0          1    15634602  Hargrave          619    France  Female   42   \n",
       "1          2    15647311      Hill          608     Spain  Female   41   \n",
       "2          3    15619304      Onio          502    France  Female   42   \n",
       "3          4    15701354      Boni          699    France  Female   39   \n",
       "4          5    15737888  Mitchell          850     Spain  Female   43   \n",
       "\n",
       "   Tenure    Balance  NumOfProducts  HasCrCard  IsActiveMember  \\\n",
       "0       2       0.00              1          1               1   \n",
       "1       1   83807.86              1          0               1   \n",
       "2       8  159660.80              3          1               0   \n",
       "3       1       0.00              2          0               0   \n",
       "4       2  125510.82              1          1               1   \n",
       "\n",
       "   EstimatedSalary  Exited  \n",
       "0        101348.88       1  \n",
       "1        112542.58       0  \n",
       "2        113931.57       1  \n",
       "3         93826.63       0  \n",
       "4         79084.10       0  "
      ]
     },
     "execution_count": 3,
     "metadata": {},
     "output_type": "execute_result"
    }
   ],
   "source": [
    "df.head()"
   ]
  },
  {
   "cell_type": "code",
   "execution_count": 4,
   "id": "9ed03167",
   "metadata": {
    "execution": {
     "iopub.execute_input": "2024-05-03T12:51:38.990304Z",
     "iopub.status.busy": "2024-05-03T12:51:38.989792Z",
     "iopub.status.idle": "2024-05-03T12:51:38.997818Z",
     "shell.execute_reply": "2024-05-03T12:51:38.996607Z"
    },
    "papermill": {
     "duration": 0.026061,
     "end_time": "2024-05-03T12:51:39.000849",
     "exception": false,
     "start_time": "2024-05-03T12:51:38.974788",
     "status": "completed"
    },
    "tags": []
   },
   "outputs": [
    {
     "data": {
      "text/plain": [
       "(10000, 14)"
      ]
     },
     "execution_count": 4,
     "metadata": {},
     "output_type": "execute_result"
    }
   ],
   "source": [
    "df.shape"
   ]
  },
  {
   "cell_type": "code",
   "execution_count": 5,
   "id": "26d6fe93",
   "metadata": {
    "execution": {
     "iopub.execute_input": "2024-05-03T12:51:39.031055Z",
     "iopub.status.busy": "2024-05-03T12:51:39.030036Z",
     "iopub.status.idle": "2024-05-03T12:51:39.070201Z",
     "shell.execute_reply": "2024-05-03T12:51:39.068069Z"
    },
    "papermill": {
     "duration": 0.056269,
     "end_time": "2024-05-03T12:51:39.073142",
     "exception": false,
     "start_time": "2024-05-03T12:51:39.016873",
     "status": "completed"
    },
    "tags": []
   },
   "outputs": [
    {
     "name": "stdout",
     "output_type": "stream",
     "text": [
      "<class 'pandas.core.frame.DataFrame'>\n",
      "RangeIndex: 10000 entries, 0 to 9999\n",
      "Data columns (total 14 columns):\n",
      " #   Column           Non-Null Count  Dtype  \n",
      "---  ------           --------------  -----  \n",
      " 0   RowNumber        10000 non-null  int64  \n",
      " 1   CustomerId       10000 non-null  int64  \n",
      " 2   Surname          10000 non-null  object \n",
      " 3   CreditScore      10000 non-null  int64  \n",
      " 4   Geography        10000 non-null  object \n",
      " 5   Gender           10000 non-null  object \n",
      " 6   Age              10000 non-null  int64  \n",
      " 7   Tenure           10000 non-null  int64  \n",
      " 8   Balance          10000 non-null  float64\n",
      " 9   NumOfProducts    10000 non-null  int64  \n",
      " 10  HasCrCard        10000 non-null  int64  \n",
      " 11  IsActiveMember   10000 non-null  int64  \n",
      " 12  EstimatedSalary  10000 non-null  float64\n",
      " 13  Exited           10000 non-null  int64  \n",
      "dtypes: float64(2), int64(9), object(3)\n",
      "memory usage: 1.1+ MB\n"
     ]
    }
   ],
   "source": [
    "df.info()"
   ]
  },
  {
   "cell_type": "code",
   "execution_count": 6,
   "id": "151a5ac6",
   "metadata": {
    "execution": {
     "iopub.execute_input": "2024-05-03T12:51:39.099099Z",
     "iopub.status.busy": "2024-05-03T12:51:39.098655Z",
     "iopub.status.idle": "2024-05-03T12:51:39.116978Z",
     "shell.execute_reply": "2024-05-03T12:51:39.115690Z"
    },
    "papermill": {
     "duration": 0.034583,
     "end_time": "2024-05-03T12:51:39.120011",
     "exception": false,
     "start_time": "2024-05-03T12:51:39.085428",
     "status": "completed"
    },
    "tags": []
   },
   "outputs": [
    {
     "data": {
      "text/plain": [
       "0"
      ]
     },
     "execution_count": 6,
     "metadata": {},
     "output_type": "execute_result"
    }
   ],
   "source": [
    "df.duplicated().sum()"
   ]
  },
  {
   "cell_type": "code",
   "execution_count": 7,
   "id": "f1909870",
   "metadata": {
    "execution": {
     "iopub.execute_input": "2024-05-03T12:51:39.147387Z",
     "iopub.status.busy": "2024-05-03T12:51:39.146364Z",
     "iopub.status.idle": "2024-05-03T12:51:39.159601Z",
     "shell.execute_reply": "2024-05-03T12:51:39.158447Z"
    },
    "papermill": {
     "duration": 0.029389,
     "end_time": "2024-05-03T12:51:39.162059",
     "exception": false,
     "start_time": "2024-05-03T12:51:39.132670",
     "status": "completed"
    },
    "tags": []
   },
   "outputs": [
    {
     "data": {
      "text/plain": [
       "Exited\n",
       "0    7963\n",
       "1    2037\n",
       "Name: count, dtype: int64"
      ]
     },
     "execution_count": 7,
     "metadata": {},
     "output_type": "execute_result"
    }
   ],
   "source": [
    "df['Exited'].value_counts()"
   ]
  },
  {
   "cell_type": "code",
   "execution_count": 8,
   "id": "7e8d2fa0",
   "metadata": {
    "execution": {
     "iopub.execute_input": "2024-05-03T12:51:39.188144Z",
     "iopub.status.busy": "2024-05-03T12:51:39.187187Z",
     "iopub.status.idle": "2024-05-03T12:51:39.198285Z",
     "shell.execute_reply": "2024-05-03T12:51:39.197051Z"
    },
    "papermill": {
     "duration": 0.02726,
     "end_time": "2024-05-03T12:51:39.201047",
     "exception": false,
     "start_time": "2024-05-03T12:51:39.173787",
     "status": "completed"
    },
    "tags": []
   },
   "outputs": [
    {
     "data": {
      "text/plain": [
       "Geography\n",
       "France     5014\n",
       "Germany    2509\n",
       "Spain      2477\n",
       "Name: count, dtype: int64"
      ]
     },
     "execution_count": 8,
     "metadata": {},
     "output_type": "execute_result"
    }
   ],
   "source": [
    "df['Geography'].value_counts()"
   ]
  },
  {
   "cell_type": "code",
   "execution_count": 9,
   "id": "558b5910",
   "metadata": {
    "execution": {
     "iopub.execute_input": "2024-05-03T12:51:39.227348Z",
     "iopub.status.busy": "2024-05-03T12:51:39.226866Z",
     "iopub.status.idle": "2024-05-03T12:51:39.238727Z",
     "shell.execute_reply": "2024-05-03T12:51:39.237092Z"
    },
    "papermill": {
     "duration": 0.028441,
     "end_time": "2024-05-03T12:51:39.241743",
     "exception": false,
     "start_time": "2024-05-03T12:51:39.213302",
     "status": "completed"
    },
    "tags": []
   },
   "outputs": [
    {
     "data": {
      "text/plain": [
       "Gender\n",
       "Male      5457\n",
       "Female    4543\n",
       "Name: count, dtype: int64"
      ]
     },
     "execution_count": 9,
     "metadata": {},
     "output_type": "execute_result"
    }
   ],
   "source": [
    "df['Gender'].value_counts()"
   ]
  },
  {
   "cell_type": "code",
   "execution_count": 10,
   "id": "b4c63391",
   "metadata": {
    "execution": {
     "iopub.execute_input": "2024-05-03T12:51:39.268225Z",
     "iopub.status.busy": "2024-05-03T12:51:39.267722Z",
     "iopub.status.idle": "2024-05-03T12:51:39.279404Z",
     "shell.execute_reply": "2024-05-03T12:51:39.278128Z"
    },
    "papermill": {
     "duration": 0.028005,
     "end_time": "2024-05-03T12:51:39.282199",
     "exception": false,
     "start_time": "2024-05-03T12:51:39.254194",
     "status": "completed"
    },
    "tags": []
   },
   "outputs": [],
   "source": [
    "df.drop(columns=['RowNumber','CustomerId','Surname'],inplace=True)"
   ]
  },
  {
   "cell_type": "code",
   "execution_count": 11,
   "id": "784b303e",
   "metadata": {
    "execution": {
     "iopub.execute_input": "2024-05-03T12:51:39.308863Z",
     "iopub.status.busy": "2024-05-03T12:51:39.308369Z",
     "iopub.status.idle": "2024-05-03T12:51:39.328565Z",
     "shell.execute_reply": "2024-05-03T12:51:39.327235Z"
    },
    "papermill": {
     "duration": 0.036615,
     "end_time": "2024-05-03T12:51:39.331403",
     "exception": false,
     "start_time": "2024-05-03T12:51:39.294788",
     "status": "completed"
    },
    "tags": []
   },
   "outputs": [
    {
     "data": {
      "text/html": [
       "<div>\n",
       "<style scoped>\n",
       "    .dataframe tbody tr th:only-of-type {\n",
       "        vertical-align: middle;\n",
       "    }\n",
       "\n",
       "    .dataframe tbody tr th {\n",
       "        vertical-align: top;\n",
       "    }\n",
       "\n",
       "    .dataframe thead th {\n",
       "        text-align: right;\n",
       "    }\n",
       "</style>\n",
       "<table border=\"1\" class=\"dataframe\">\n",
       "  <thead>\n",
       "    <tr style=\"text-align: right;\">\n",
       "      <th></th>\n",
       "      <th>CreditScore</th>\n",
       "      <th>Geography</th>\n",
       "      <th>Gender</th>\n",
       "      <th>Age</th>\n",
       "      <th>Tenure</th>\n",
       "      <th>Balance</th>\n",
       "      <th>NumOfProducts</th>\n",
       "      <th>HasCrCard</th>\n",
       "      <th>IsActiveMember</th>\n",
       "      <th>EstimatedSalary</th>\n",
       "      <th>Exited</th>\n",
       "    </tr>\n",
       "  </thead>\n",
       "  <tbody>\n",
       "    <tr>\n",
       "      <th>0</th>\n",
       "      <td>619</td>\n",
       "      <td>France</td>\n",
       "      <td>Female</td>\n",
       "      <td>42</td>\n",
       "      <td>2</td>\n",
       "      <td>0.00</td>\n",
       "      <td>1</td>\n",
       "      <td>1</td>\n",
       "      <td>1</td>\n",
       "      <td>101348.88</td>\n",
       "      <td>1</td>\n",
       "    </tr>\n",
       "    <tr>\n",
       "      <th>1</th>\n",
       "      <td>608</td>\n",
       "      <td>Spain</td>\n",
       "      <td>Female</td>\n",
       "      <td>41</td>\n",
       "      <td>1</td>\n",
       "      <td>83807.86</td>\n",
       "      <td>1</td>\n",
       "      <td>0</td>\n",
       "      <td>1</td>\n",
       "      <td>112542.58</td>\n",
       "      <td>0</td>\n",
       "    </tr>\n",
       "    <tr>\n",
       "      <th>2</th>\n",
       "      <td>502</td>\n",
       "      <td>France</td>\n",
       "      <td>Female</td>\n",
       "      <td>42</td>\n",
       "      <td>8</td>\n",
       "      <td>159660.80</td>\n",
       "      <td>3</td>\n",
       "      <td>1</td>\n",
       "      <td>0</td>\n",
       "      <td>113931.57</td>\n",
       "      <td>1</td>\n",
       "    </tr>\n",
       "    <tr>\n",
       "      <th>3</th>\n",
       "      <td>699</td>\n",
       "      <td>France</td>\n",
       "      <td>Female</td>\n",
       "      <td>39</td>\n",
       "      <td>1</td>\n",
       "      <td>0.00</td>\n",
       "      <td>2</td>\n",
       "      <td>0</td>\n",
       "      <td>0</td>\n",
       "      <td>93826.63</td>\n",
       "      <td>0</td>\n",
       "    </tr>\n",
       "    <tr>\n",
       "      <th>4</th>\n",
       "      <td>850</td>\n",
       "      <td>Spain</td>\n",
       "      <td>Female</td>\n",
       "      <td>43</td>\n",
       "      <td>2</td>\n",
       "      <td>125510.82</td>\n",
       "      <td>1</td>\n",
       "      <td>1</td>\n",
       "      <td>1</td>\n",
       "      <td>79084.10</td>\n",
       "      <td>0</td>\n",
       "    </tr>\n",
       "  </tbody>\n",
       "</table>\n",
       "</div>"
      ],
      "text/plain": [
       "   CreditScore Geography  Gender  Age  Tenure    Balance  NumOfProducts  \\\n",
       "0          619    France  Female   42       2       0.00              1   \n",
       "1          608     Spain  Female   41       1   83807.86              1   \n",
       "2          502    France  Female   42       8  159660.80              3   \n",
       "3          699    France  Female   39       1       0.00              2   \n",
       "4          850     Spain  Female   43       2  125510.82              1   \n",
       "\n",
       "   HasCrCard  IsActiveMember  EstimatedSalary  Exited  \n",
       "0          1               1        101348.88       1  \n",
       "1          0               1        112542.58       0  \n",
       "2          1               0        113931.57       1  \n",
       "3          0               0         93826.63       0  \n",
       "4          1               1         79084.10       0  "
      ]
     },
     "execution_count": 11,
     "metadata": {},
     "output_type": "execute_result"
    }
   ],
   "source": [
    "df.head()"
   ]
  },
  {
   "cell_type": "code",
   "execution_count": 12,
   "id": "ec3a13bf",
   "metadata": {
    "execution": {
     "iopub.execute_input": "2024-05-03T12:51:39.358049Z",
     "iopub.status.busy": "2024-05-03T12:51:39.357522Z",
     "iopub.status.idle": "2024-05-03T12:51:39.374214Z",
     "shell.execute_reply": "2024-05-03T12:51:39.372640Z"
    },
    "papermill": {
     "duration": 0.033757,
     "end_time": "2024-05-03T12:51:39.377389",
     "exception": false,
     "start_time": "2024-05-03T12:51:39.343632",
     "status": "completed"
    },
    "tags": []
   },
   "outputs": [],
   "source": [
    "df=pd.get_dummies(df,columns=['Geography','Gender'],dtype=int,drop_first=True)"
   ]
  },
  {
   "cell_type": "code",
   "execution_count": 13,
   "id": "23d80678",
   "metadata": {
    "execution": {
     "iopub.execute_input": "2024-05-03T12:51:39.404317Z",
     "iopub.status.busy": "2024-05-03T12:51:39.403856Z",
     "iopub.status.idle": "2024-05-03T12:51:39.412074Z",
     "shell.execute_reply": "2024-05-03T12:51:39.410644Z"
    },
    "papermill": {
     "duration": 0.024398,
     "end_time": "2024-05-03T12:51:39.414574",
     "exception": false,
     "start_time": "2024-05-03T12:51:39.390176",
     "status": "completed"
    },
    "tags": []
   },
   "outputs": [],
   "source": [
    "X=df.drop(columns=['Exited'])\n",
    "y=df['Exited']"
   ]
  },
  {
   "cell_type": "code",
   "execution_count": 14,
   "id": "dea78713",
   "metadata": {
    "execution": {
     "iopub.execute_input": "2024-05-03T12:51:39.442126Z",
     "iopub.status.busy": "2024-05-03T12:51:39.441697Z",
     "iopub.status.idle": "2024-05-03T12:51:40.908951Z",
     "shell.execute_reply": "2024-05-03T12:51:40.907440Z"
    },
    "papermill": {
     "duration": 1.483934,
     "end_time": "2024-05-03T12:51:40.911772",
     "exception": false,
     "start_time": "2024-05-03T12:51:39.427838",
     "status": "completed"
    },
    "tags": []
   },
   "outputs": [],
   "source": [
    "from sklearn.model_selection import train_test_split\n",
    "X_train,X_test,y_train,y_test=train_test_split(X,y,test_size=0.2,random_state=1)"
   ]
  },
  {
   "cell_type": "code",
   "execution_count": 15,
   "id": "b59f3907",
   "metadata": {
    "execution": {
     "iopub.execute_input": "2024-05-03T12:51:40.938237Z",
     "iopub.status.busy": "2024-05-03T12:51:40.937810Z",
     "iopub.status.idle": "2024-05-03T12:51:40.945452Z",
     "shell.execute_reply": "2024-05-03T12:51:40.944228Z"
    },
    "papermill": {
     "duration": 0.023842,
     "end_time": "2024-05-03T12:51:40.948008",
     "exception": false,
     "start_time": "2024-05-03T12:51:40.924166",
     "status": "completed"
    },
    "tags": []
   },
   "outputs": [
    {
     "data": {
      "text/plain": [
       "(8000, 11)"
      ]
     },
     "execution_count": 15,
     "metadata": {},
     "output_type": "execute_result"
    }
   ],
   "source": [
    "X_train.shape"
   ]
  },
  {
   "cell_type": "code",
   "execution_count": 16,
   "id": "c206646e",
   "metadata": {
    "execution": {
     "iopub.execute_input": "2024-05-03T12:51:40.975912Z",
     "iopub.status.busy": "2024-05-03T12:51:40.975008Z",
     "iopub.status.idle": "2024-05-03T12:51:40.992251Z",
     "shell.execute_reply": "2024-05-03T12:51:40.991067Z"
    },
    "papermill": {
     "duration": 0.03417,
     "end_time": "2024-05-03T12:51:40.995101",
     "exception": false,
     "start_time": "2024-05-03T12:51:40.960931",
     "status": "completed"
    },
    "tags": []
   },
   "outputs": [],
   "source": [
    "from sklearn.preprocessing import StandardScaler\n",
    "scaler=StandardScaler()\n",
    "\n",
    "X_train_scaled=scaler.fit_transform(X_train)\n",
    "X_test_scaled=scaler.transform(X_test)"
   ]
  },
  {
   "cell_type": "code",
   "execution_count": 17,
   "id": "2d9b3be1",
   "metadata": {
    "execution": {
     "iopub.execute_input": "2024-05-03T12:51:41.022848Z",
     "iopub.status.busy": "2024-05-03T12:51:41.022433Z",
     "iopub.status.idle": "2024-05-03T12:51:41.031455Z",
     "shell.execute_reply": "2024-05-03T12:51:41.030375Z"
    },
    "papermill": {
     "duration": 0.026009,
     "end_time": "2024-05-03T12:51:41.034057",
     "exception": false,
     "start_time": "2024-05-03T12:51:41.008048",
     "status": "completed"
    },
    "tags": []
   },
   "outputs": [
    {
     "data": {
      "text/plain": [
       "array([[-0.23082038, -0.94449979, -0.70174202, ...,  1.71490137,\n",
       "        -0.57273139,  0.91509065],\n",
       "       [-0.25150912, -0.94449979, -0.35520275, ..., -0.58312392,\n",
       "        -0.57273139, -1.09278791],\n",
       "       [-0.3963303 ,  0.77498705,  0.33787579, ...,  1.71490137,\n",
       "        -0.57273139, -1.09278791],\n",
       "       ...,\n",
       "       [ 0.22433188,  0.58393295,  1.3774936 , ..., -0.58312392,\n",
       "        -0.57273139, -1.09278791],\n",
       "       [ 0.13123255,  0.01077067,  1.03095433, ..., -0.58312392,\n",
       "        -0.57273139, -1.09278791],\n",
       "       [ 1.1656695 ,  0.29735181,  0.33787579, ...,  1.71490137,\n",
       "        -0.57273139,  0.91509065]])"
      ]
     },
     "execution_count": 17,
     "metadata": {},
     "output_type": "execute_result"
    }
   ],
   "source": [
    "X_train_scaled"
   ]
  },
  {
   "cell_type": "code",
   "execution_count": 18,
   "id": "5d3ddd5b",
   "metadata": {
    "execution": {
     "iopub.execute_input": "2024-05-03T12:51:41.063093Z",
     "iopub.status.busy": "2024-05-03T12:51:41.062131Z",
     "iopub.status.idle": "2024-05-03T12:51:55.850487Z",
     "shell.execute_reply": "2024-05-03T12:51:55.849448Z"
    },
    "papermill": {
     "duration": 14.805111,
     "end_time": "2024-05-03T12:51:55.853318",
     "exception": false,
     "start_time": "2024-05-03T12:51:41.048207",
     "status": "completed"
    },
    "tags": []
   },
   "outputs": [
    {
     "name": "stderr",
     "output_type": "stream",
     "text": [
      "2024-05-03 12:51:43.479970: E external/local_xla/xla/stream_executor/cuda/cuda_dnn.cc:9261] Unable to register cuDNN factory: Attempting to register factory for plugin cuDNN when one has already been registered\n",
      "2024-05-03 12:51:43.480270: E external/local_xla/xla/stream_executor/cuda/cuda_fft.cc:607] Unable to register cuFFT factory: Attempting to register factory for plugin cuFFT when one has already been registered\n",
      "2024-05-03 12:51:43.644349: E external/local_xla/xla/stream_executor/cuda/cuda_blas.cc:1515] Unable to register cuBLAS factory: Attempting to register factory for plugin cuBLAS when one has already been registered\n"
     ]
    }
   ],
   "source": [
    "import tensorflow\n",
    "from tensorflow import keras\n",
    "from tensorflow.keras import Sequential\n",
    "from tensorflow.keras.layers import Dense"
   ]
  },
  {
   "cell_type": "code",
   "execution_count": 19,
   "id": "db7b564c",
   "metadata": {
    "execution": {
     "iopub.execute_input": "2024-05-03T12:51:55.881453Z",
     "iopub.status.busy": "2024-05-03T12:51:55.880688Z",
     "iopub.status.idle": "2024-05-03T12:51:55.978619Z",
     "shell.execute_reply": "2024-05-03T12:51:55.977326Z"
    },
    "papermill": {
     "duration": 0.115415,
     "end_time": "2024-05-03T12:51:55.981688",
     "exception": false,
     "start_time": "2024-05-03T12:51:55.866273",
     "status": "completed"
    },
    "tags": []
   },
   "outputs": [
    {
     "name": "stderr",
     "output_type": "stream",
     "text": [
      "/opt/conda/lib/python3.10/site-packages/keras/src/layers/core/dense.py:86: UserWarning: Do not pass an `input_shape`/`input_dim` argument to a layer. When using Sequential models, prefer using an `Input(shape)` object as the first layer in the model instead.\n",
      "  super().__init__(activity_regularizer=activity_regularizer, **kwargs)\n"
     ]
    }
   ],
   "source": [
    "model=Sequential()\n",
    "\n",
    "model.add(Dense(11,activation='relu',input_dim=11))\n",
    "model.add(Dense(11,activation='relu',input_dim=11))\n",
    "model.add(Dense(1,activation='sigmoid'))"
   ]
  },
  {
   "cell_type": "code",
   "execution_count": 20,
   "id": "4c84f11a",
   "metadata": {
    "execution": {
     "iopub.execute_input": "2024-05-03T12:51:56.009943Z",
     "iopub.status.busy": "2024-05-03T12:51:56.009474Z",
     "iopub.status.idle": "2024-05-03T12:51:56.032099Z",
     "shell.execute_reply": "2024-05-03T12:51:56.030689Z"
    },
    "papermill": {
     "duration": 0.040033,
     "end_time": "2024-05-03T12:51:56.034720",
     "exception": false,
     "start_time": "2024-05-03T12:51:55.994687",
     "status": "completed"
    },
    "tags": []
   },
   "outputs": [
    {
     "data": {
      "text/html": [
       "<pre style=\"white-space:pre;overflow-x:auto;line-height:normal;font-family:Menlo,'DejaVu Sans Mono',consolas,'Courier New',monospace\"><span style=\"font-weight: bold\">Model: \"sequential\"</span>\n",
       "</pre>\n"
      ],
      "text/plain": [
       "\u001b[1mModel: \"sequential\"\u001b[0m\n"
      ]
     },
     "metadata": {},
     "output_type": "display_data"
    },
    {
     "data": {
      "text/html": [
       "<pre style=\"white-space:pre;overflow-x:auto;line-height:normal;font-family:Menlo,'DejaVu Sans Mono',consolas,'Courier New',monospace\">┏━━━━━━━━━━━━━━━━━━━━━━━━━━━━━━━━━┳━━━━━━━━━━━━━━━━━━━━━━━━┳━━━━━━━━━━━━━━━┓\n",
       "┃<span style=\"font-weight: bold\"> Layer (type)                    </span>┃<span style=\"font-weight: bold\"> Output Shape           </span>┃<span style=\"font-weight: bold\">       Param # </span>┃\n",
       "┡━━━━━━━━━━━━━━━━━━━━━━━━━━━━━━━━━╇━━━━━━━━━━━━━━━━━━━━━━━━╇━━━━━━━━━━━━━━━┩\n",
       "│ dense (<span style=\"color: #0087ff; text-decoration-color: #0087ff\">Dense</span>)                   │ (<span style=\"color: #00d7ff; text-decoration-color: #00d7ff\">None</span>, <span style=\"color: #00af00; text-decoration-color: #00af00\">11</span>)             │           <span style=\"color: #00af00; text-decoration-color: #00af00\">132</span> │\n",
       "├─────────────────────────────────┼────────────────────────┼───────────────┤\n",
       "│ dense_1 (<span style=\"color: #0087ff; text-decoration-color: #0087ff\">Dense</span>)                 │ (<span style=\"color: #00d7ff; text-decoration-color: #00d7ff\">None</span>, <span style=\"color: #00af00; text-decoration-color: #00af00\">11</span>)             │           <span style=\"color: #00af00; text-decoration-color: #00af00\">132</span> │\n",
       "├─────────────────────────────────┼────────────────────────┼───────────────┤\n",
       "│ dense_2 (<span style=\"color: #0087ff; text-decoration-color: #0087ff\">Dense</span>)                 │ (<span style=\"color: #00d7ff; text-decoration-color: #00d7ff\">None</span>, <span style=\"color: #00af00; text-decoration-color: #00af00\">1</span>)              │            <span style=\"color: #00af00; text-decoration-color: #00af00\">12</span> │\n",
       "└─────────────────────────────────┴────────────────────────┴───────────────┘\n",
       "</pre>\n"
      ],
      "text/plain": [
       "┏━━━━━━━━━━━━━━━━━━━━━━━━━━━━━━━━━┳━━━━━━━━━━━━━━━━━━━━━━━━┳━━━━━━━━━━━━━━━┓\n",
       "┃\u001b[1m \u001b[0m\u001b[1mLayer (type)                   \u001b[0m\u001b[1m \u001b[0m┃\u001b[1m \u001b[0m\u001b[1mOutput Shape          \u001b[0m\u001b[1m \u001b[0m┃\u001b[1m \u001b[0m\u001b[1m      Param #\u001b[0m\u001b[1m \u001b[0m┃\n",
       "┡━━━━━━━━━━━━━━━━━━━━━━━━━━━━━━━━━╇━━━━━━━━━━━━━━━━━━━━━━━━╇━━━━━━━━━━━━━━━┩\n",
       "│ dense (\u001b[38;5;33mDense\u001b[0m)                   │ (\u001b[38;5;45mNone\u001b[0m, \u001b[38;5;34m11\u001b[0m)             │           \u001b[38;5;34m132\u001b[0m │\n",
       "├─────────────────────────────────┼────────────────────────┼───────────────┤\n",
       "│ dense_1 (\u001b[38;5;33mDense\u001b[0m)                 │ (\u001b[38;5;45mNone\u001b[0m, \u001b[38;5;34m11\u001b[0m)             │           \u001b[38;5;34m132\u001b[0m │\n",
       "├─────────────────────────────────┼────────────────────────┼───────────────┤\n",
       "│ dense_2 (\u001b[38;5;33mDense\u001b[0m)                 │ (\u001b[38;5;45mNone\u001b[0m, \u001b[38;5;34m1\u001b[0m)              │            \u001b[38;5;34m12\u001b[0m │\n",
       "└─────────────────────────────────┴────────────────────────┴───────────────┘\n"
      ]
     },
     "metadata": {},
     "output_type": "display_data"
    },
    {
     "data": {
      "text/html": [
       "<pre style=\"white-space:pre;overflow-x:auto;line-height:normal;font-family:Menlo,'DejaVu Sans Mono',consolas,'Courier New',monospace\"><span style=\"font-weight: bold\"> Total params: </span><span style=\"color: #00af00; text-decoration-color: #00af00\">276</span> (1.08 KB)\n",
       "</pre>\n"
      ],
      "text/plain": [
       "\u001b[1m Total params: \u001b[0m\u001b[38;5;34m276\u001b[0m (1.08 KB)\n"
      ]
     },
     "metadata": {},
     "output_type": "display_data"
    },
    {
     "data": {
      "text/html": [
       "<pre style=\"white-space:pre;overflow-x:auto;line-height:normal;font-family:Menlo,'DejaVu Sans Mono',consolas,'Courier New',monospace\"><span style=\"font-weight: bold\"> Trainable params: </span><span style=\"color: #00af00; text-decoration-color: #00af00\">276</span> (1.08 KB)\n",
       "</pre>\n"
      ],
      "text/plain": [
       "\u001b[1m Trainable params: \u001b[0m\u001b[38;5;34m276\u001b[0m (1.08 KB)\n"
      ]
     },
     "metadata": {},
     "output_type": "display_data"
    },
    {
     "data": {
      "text/html": [
       "<pre style=\"white-space:pre;overflow-x:auto;line-height:normal;font-family:Menlo,'DejaVu Sans Mono',consolas,'Courier New',monospace\"><span style=\"font-weight: bold\"> Non-trainable params: </span><span style=\"color: #00af00; text-decoration-color: #00af00\">0</span> (0.00 B)\n",
       "</pre>\n"
      ],
      "text/plain": [
       "\u001b[1m Non-trainable params: \u001b[0m\u001b[38;5;34m0\u001b[0m (0.00 B)\n"
      ]
     },
     "metadata": {},
     "output_type": "display_data"
    }
   ],
   "source": [
    "model.summary()"
   ]
  },
  {
   "cell_type": "code",
   "execution_count": 21,
   "id": "95f9319e",
   "metadata": {
    "execution": {
     "iopub.execute_input": "2024-05-03T12:51:56.064770Z",
     "iopub.status.busy": "2024-05-03T12:51:56.063715Z",
     "iopub.status.idle": "2024-05-03T12:51:56.081079Z",
     "shell.execute_reply": "2024-05-03T12:51:56.079947Z"
    },
    "papermill": {
     "duration": 0.035334,
     "end_time": "2024-05-03T12:51:56.083795",
     "exception": false,
     "start_time": "2024-05-03T12:51:56.048461",
     "status": "completed"
    },
    "tags": []
   },
   "outputs": [],
   "source": [
    "model.compile(loss='binary_crossentropy',optimizer='Adam',metrics=['accuracy'])\n"
   ]
  },
  {
   "cell_type": "code",
   "execution_count": 22,
   "id": "9d0da074",
   "metadata": {
    "execution": {
     "iopub.execute_input": "2024-05-03T12:51:56.115019Z",
     "iopub.status.busy": "2024-05-03T12:51:56.114612Z",
     "iopub.status.idle": "2024-05-03T12:52:37.415565Z",
     "shell.execute_reply": "2024-05-03T12:52:37.414520Z"
    },
    "papermill": {
     "duration": 41.320768,
     "end_time": "2024-05-03T12:52:37.418368",
     "exception": false,
     "start_time": "2024-05-03T12:51:56.097600",
     "status": "completed"
    },
    "tags": []
   },
   "outputs": [
    {
     "name": "stdout",
     "output_type": "stream",
     "text": [
      "Epoch 1/100\n",
      "\u001b[1m200/200\u001b[0m \u001b[32m━━━━━━━━━━━━━━━━━━━━\u001b[0m\u001b[37m\u001b[0m \u001b[1m2s\u001b[0m 3ms/step - accuracy: 0.6726 - loss: 0.6250 - val_accuracy: 0.7981 - val_loss: 0.4930\n",
      "Epoch 2/100\n",
      "\u001b[1m200/200\u001b[0m \u001b[32m━━━━━━━━━━━━━━━━━━━━\u001b[0m\u001b[37m\u001b[0m \u001b[1m0s\u001b[0m 2ms/step - accuracy: 0.7921 - loss: 0.4764 - val_accuracy: 0.8019 - val_loss: 0.4583\n",
      "Epoch 3/100\n",
      "\u001b[1m200/200\u001b[0m \u001b[32m━━━━━━━━━━━━━━━━━━━━\u001b[0m\u001b[37m\u001b[0m \u001b[1m0s\u001b[0m 2ms/step - accuracy: 0.8057 - loss: 0.4448 - val_accuracy: 0.8081 - val_loss: 0.4400\n",
      "Epoch 4/100\n",
      "\u001b[1m200/200\u001b[0m \u001b[32m━━━━━━━━━━━━━━━━━━━━\u001b[0m\u001b[37m\u001b[0m \u001b[1m0s\u001b[0m 2ms/step - accuracy: 0.8086 - loss: 0.4291 - val_accuracy: 0.8150 - val_loss: 0.4238\n",
      "Epoch 5/100\n",
      "\u001b[1m200/200\u001b[0m \u001b[32m━━━━━━━━━━━━━━━━━━━━\u001b[0m\u001b[37m\u001b[0m \u001b[1m0s\u001b[0m 2ms/step - accuracy: 0.8219 - loss: 0.3981 - val_accuracy: 0.8200 - val_loss: 0.4099\n",
      "Epoch 6/100\n",
      "\u001b[1m200/200\u001b[0m \u001b[32m━━━━━━━━━━━━━━━━━━━━\u001b[0m\u001b[37m\u001b[0m \u001b[1m0s\u001b[0m 2ms/step - accuracy: 0.8287 - loss: 0.4004 - val_accuracy: 0.8331 - val_loss: 0.3959\n",
      "Epoch 7/100\n",
      "\u001b[1m200/200\u001b[0m \u001b[32m━━━━━━━━━━━━━━━━━━━━\u001b[0m\u001b[37m\u001b[0m \u001b[1m0s\u001b[0m 2ms/step - accuracy: 0.8436 - loss: 0.3832 - val_accuracy: 0.8375 - val_loss: 0.3846\n",
      "Epoch 8/100\n",
      "\u001b[1m200/200\u001b[0m \u001b[32m━━━━━━━━━━━━━━━━━━━━\u001b[0m\u001b[37m\u001b[0m \u001b[1m0s\u001b[0m 2ms/step - accuracy: 0.8414 - loss: 0.3835 - val_accuracy: 0.8431 - val_loss: 0.3724\n",
      "Epoch 9/100\n",
      "\u001b[1m200/200\u001b[0m \u001b[32m━━━━━━━━━━━━━━━━━━━━\u001b[0m\u001b[37m\u001b[0m \u001b[1m0s\u001b[0m 2ms/step - accuracy: 0.8475 - loss: 0.3718 - val_accuracy: 0.8462 - val_loss: 0.3626\n",
      "Epoch 10/100\n",
      "\u001b[1m200/200\u001b[0m \u001b[32m━━━━━━━━━━━━━━━━━━━━\u001b[0m\u001b[37m\u001b[0m \u001b[1m0s\u001b[0m 2ms/step - accuracy: 0.8451 - loss: 0.3720 - val_accuracy: 0.8475 - val_loss: 0.3574\n",
      "Epoch 11/100\n",
      "\u001b[1m200/200\u001b[0m \u001b[32m━━━━━━━━━━━━━━━━━━━━\u001b[0m\u001b[37m\u001b[0m \u001b[1m0s\u001b[0m 2ms/step - accuracy: 0.8507 - loss: 0.3656 - val_accuracy: 0.8475 - val_loss: 0.3529\n",
      "Epoch 12/100\n",
      "\u001b[1m200/200\u001b[0m \u001b[32m━━━━━━━━━━━━━━━━━━━━\u001b[0m\u001b[37m\u001b[0m \u001b[1m0s\u001b[0m 2ms/step - accuracy: 0.8503 - loss: 0.3592 - val_accuracy: 0.8512 - val_loss: 0.3504\n",
      "Epoch 13/100\n",
      "\u001b[1m200/200\u001b[0m \u001b[32m━━━━━━━━━━━━━━━━━━━━\u001b[0m\u001b[37m\u001b[0m \u001b[1m0s\u001b[0m 2ms/step - accuracy: 0.8614 - loss: 0.3486 - val_accuracy: 0.8525 - val_loss: 0.3465\n",
      "Epoch 14/100\n",
      "\u001b[1m200/200\u001b[0m \u001b[32m━━━━━━━━━━━━━━━━━━━━\u001b[0m\u001b[37m\u001b[0m \u001b[1m0s\u001b[0m 2ms/step - accuracy: 0.8640 - loss: 0.3448 - val_accuracy: 0.8506 - val_loss: 0.3447\n",
      "Epoch 15/100\n",
      "\u001b[1m200/200\u001b[0m \u001b[32m━━━━━━━━━━━━━━━━━━━━\u001b[0m\u001b[37m\u001b[0m \u001b[1m0s\u001b[0m 2ms/step - accuracy: 0.8546 - loss: 0.3481 - val_accuracy: 0.8525 - val_loss: 0.3461\n",
      "Epoch 16/100\n",
      "\u001b[1m200/200\u001b[0m \u001b[32m━━━━━━━━━━━━━━━━━━━━\u001b[0m\u001b[37m\u001b[0m \u001b[1m0s\u001b[0m 2ms/step - accuracy: 0.8590 - loss: 0.3447 - val_accuracy: 0.8525 - val_loss: 0.3446\n",
      "Epoch 17/100\n",
      "\u001b[1m200/200\u001b[0m \u001b[32m━━━━━━━━━━━━━━━━━━━━\u001b[0m\u001b[37m\u001b[0m \u001b[1m1s\u001b[0m 2ms/step - accuracy: 0.8581 - loss: 0.3364 - val_accuracy: 0.8531 - val_loss: 0.3439\n",
      "Epoch 18/100\n",
      "\u001b[1m200/200\u001b[0m \u001b[32m━━━━━━━━━━━━━━━━━━━━\u001b[0m\u001b[37m\u001b[0m \u001b[1m0s\u001b[0m 2ms/step - accuracy: 0.8617 - loss: 0.3352 - val_accuracy: 0.8525 - val_loss: 0.3440\n",
      "Epoch 19/100\n",
      "\u001b[1m200/200\u001b[0m \u001b[32m━━━━━━━━━━━━━━━━━━━━\u001b[0m\u001b[37m\u001b[0m \u001b[1m0s\u001b[0m 2ms/step - accuracy: 0.8648 - loss: 0.3324 - val_accuracy: 0.8531 - val_loss: 0.3415\n",
      "Epoch 20/100\n",
      "\u001b[1m200/200\u001b[0m \u001b[32m━━━━━━━━━━━━━━━━━━━━\u001b[0m\u001b[37m\u001b[0m \u001b[1m0s\u001b[0m 2ms/step - accuracy: 0.8619 - loss: 0.3268 - val_accuracy: 0.8531 - val_loss: 0.3409\n",
      "Epoch 21/100\n",
      "\u001b[1m200/200\u001b[0m \u001b[32m━━━━━━━━━━━━━━━━━━━━\u001b[0m\u001b[37m\u001b[0m \u001b[1m0s\u001b[0m 2ms/step - accuracy: 0.8634 - loss: 0.3358 - val_accuracy: 0.8519 - val_loss: 0.3407\n",
      "Epoch 22/100\n",
      "\u001b[1m200/200\u001b[0m \u001b[32m━━━━━━━━━━━━━━━━━━━━\u001b[0m\u001b[37m\u001b[0m \u001b[1m0s\u001b[0m 2ms/step - accuracy: 0.8752 - loss: 0.3211 - val_accuracy: 0.8544 - val_loss: 0.3407\n",
      "Epoch 23/100\n",
      "\u001b[1m200/200\u001b[0m \u001b[32m━━━━━━━━━━━━━━━━━━━━\u001b[0m\u001b[37m\u001b[0m \u001b[1m0s\u001b[0m 2ms/step - accuracy: 0.8590 - loss: 0.3407 - val_accuracy: 0.8525 - val_loss: 0.3416\n",
      "Epoch 24/100\n",
      "\u001b[1m200/200\u001b[0m \u001b[32m━━━━━━━━━━━━━━━━━━━━\u001b[0m\u001b[37m\u001b[0m \u001b[1m0s\u001b[0m 2ms/step - accuracy: 0.8639 - loss: 0.3406 - val_accuracy: 0.8531 - val_loss: 0.3407\n",
      "Epoch 25/100\n",
      "\u001b[1m200/200\u001b[0m \u001b[32m━━━━━━━━━━━━━━━━━━━━\u001b[0m\u001b[37m\u001b[0m \u001b[1m0s\u001b[0m 2ms/step - accuracy: 0.8600 - loss: 0.3485 - val_accuracy: 0.8550 - val_loss: 0.3404\n",
      "Epoch 26/100\n",
      "\u001b[1m200/200\u001b[0m \u001b[32m━━━━━━━━━━━━━━━━━━━━\u001b[0m\u001b[37m\u001b[0m \u001b[1m0s\u001b[0m 2ms/step - accuracy: 0.8638 - loss: 0.3319 - val_accuracy: 0.8531 - val_loss: 0.3404\n",
      "Epoch 27/100\n",
      "\u001b[1m200/200\u001b[0m \u001b[32m━━━━━━━━━━━━━━━━━━━━\u001b[0m\u001b[37m\u001b[0m \u001b[1m0s\u001b[0m 2ms/step - accuracy: 0.8654 - loss: 0.3311 - val_accuracy: 0.8500 - val_loss: 0.3397\n",
      "Epoch 28/100\n",
      "\u001b[1m200/200\u001b[0m \u001b[32m━━━━━━━━━━━━━━━━━━━━\u001b[0m\u001b[37m\u001b[0m \u001b[1m0s\u001b[0m 2ms/step - accuracy: 0.8604 - loss: 0.3413 - val_accuracy: 0.8537 - val_loss: 0.3410\n",
      "Epoch 29/100\n",
      "\u001b[1m200/200\u001b[0m \u001b[32m━━━━━━━━━━━━━━━━━━━━\u001b[0m\u001b[37m\u001b[0m \u001b[1m0s\u001b[0m 2ms/step - accuracy: 0.8672 - loss: 0.3398 - val_accuracy: 0.8556 - val_loss: 0.3402\n",
      "Epoch 30/100\n",
      "\u001b[1m200/200\u001b[0m \u001b[32m━━━━━━━━━━━━━━━━━━━━\u001b[0m\u001b[37m\u001b[0m \u001b[1m0s\u001b[0m 2ms/step - accuracy: 0.8674 - loss: 0.3267 - val_accuracy: 0.8569 - val_loss: 0.3379\n",
      "Epoch 31/100\n",
      "\u001b[1m200/200\u001b[0m \u001b[32m━━━━━━━━━━━━━━━━━━━━\u001b[0m\u001b[37m\u001b[0m \u001b[1m1s\u001b[0m 2ms/step - accuracy: 0.8634 - loss: 0.3334 - val_accuracy: 0.8556 - val_loss: 0.3407\n",
      "Epoch 32/100\n",
      "\u001b[1m200/200\u001b[0m \u001b[32m━━━━━━━━━━━━━━━━━━━━\u001b[0m\u001b[37m\u001b[0m \u001b[1m0s\u001b[0m 2ms/step - accuracy: 0.8583 - loss: 0.3460 - val_accuracy: 0.8537 - val_loss: 0.3390\n",
      "Epoch 33/100\n",
      "\u001b[1m200/200\u001b[0m \u001b[32m━━━━━━━━━━━━━━━━━━━━\u001b[0m\u001b[37m\u001b[0m \u001b[1m0s\u001b[0m 2ms/step - accuracy: 0.8652 - loss: 0.3313 - val_accuracy: 0.8531 - val_loss: 0.3403\n",
      "Epoch 34/100\n",
      "\u001b[1m200/200\u001b[0m \u001b[32m━━━━━━━━━━━━━━━━━━━━\u001b[0m\u001b[37m\u001b[0m \u001b[1m0s\u001b[0m 2ms/step - accuracy: 0.8659 - loss: 0.3357 - val_accuracy: 0.8587 - val_loss: 0.3380\n",
      "Epoch 35/100\n",
      "\u001b[1m200/200\u001b[0m \u001b[32m━━━━━━━━━━━━━━━━━━━━\u001b[0m\u001b[37m\u001b[0m \u001b[1m0s\u001b[0m 2ms/step - accuracy: 0.8715 - loss: 0.3217 - val_accuracy: 0.8562 - val_loss: 0.3387\n",
      "Epoch 36/100\n",
      "\u001b[1m200/200\u001b[0m \u001b[32m━━━━━━━━━━━━━━━━━━━━\u001b[0m\u001b[37m\u001b[0m \u001b[1m0s\u001b[0m 2ms/step - accuracy: 0.8573 - loss: 0.3356 - val_accuracy: 0.8562 - val_loss: 0.3384\n",
      "Epoch 37/100\n",
      "\u001b[1m200/200\u001b[0m \u001b[32m━━━━━━━━━━━━━━━━━━━━\u001b[0m\u001b[37m\u001b[0m \u001b[1m0s\u001b[0m 2ms/step - accuracy: 0.8727 - loss: 0.3174 - val_accuracy: 0.8519 - val_loss: 0.3416\n",
      "Epoch 38/100\n",
      "\u001b[1m200/200\u001b[0m \u001b[32m━━━━━━━━━━━━━━━━━━━━\u001b[0m\u001b[37m\u001b[0m \u001b[1m0s\u001b[0m 2ms/step - accuracy: 0.8613 - loss: 0.3416 - val_accuracy: 0.8550 - val_loss: 0.3390\n",
      "Epoch 39/100\n",
      "\u001b[1m200/200\u001b[0m \u001b[32m━━━━━━━━━━━━━━━━━━━━\u001b[0m\u001b[37m\u001b[0m \u001b[1m0s\u001b[0m 2ms/step - accuracy: 0.8641 - loss: 0.3364 - val_accuracy: 0.8519 - val_loss: 0.3428\n",
      "Epoch 40/100\n",
      "\u001b[1m200/200\u001b[0m \u001b[32m━━━━━━━━━━━━━━━━━━━━\u001b[0m\u001b[37m\u001b[0m \u001b[1m0s\u001b[0m 2ms/step - accuracy: 0.8691 - loss: 0.3287 - val_accuracy: 0.8562 - val_loss: 0.3384\n",
      "Epoch 41/100\n",
      "\u001b[1m200/200\u001b[0m \u001b[32m━━━━━━━━━━━━━━━━━━━━\u001b[0m\u001b[37m\u001b[0m \u001b[1m1s\u001b[0m 2ms/step - accuracy: 0.8614 - loss: 0.3351 - val_accuracy: 0.8581 - val_loss: 0.3386\n",
      "Epoch 42/100\n",
      "\u001b[1m200/200\u001b[0m \u001b[32m━━━━━━━━━━━━━━━━━━━━\u001b[0m\u001b[37m\u001b[0m \u001b[1m0s\u001b[0m 2ms/step - accuracy: 0.8680 - loss: 0.3195 - val_accuracy: 0.8562 - val_loss: 0.3381\n",
      "Epoch 43/100\n",
      "\u001b[1m200/200\u001b[0m \u001b[32m━━━━━━━━━━━━━━━━━━━━\u001b[0m\u001b[37m\u001b[0m \u001b[1m0s\u001b[0m 2ms/step - accuracy: 0.8652 - loss: 0.3259 - val_accuracy: 0.8562 - val_loss: 0.3391\n",
      "Epoch 44/100\n",
      "\u001b[1m200/200\u001b[0m \u001b[32m━━━━━━━━━━━━━━━━━━━━\u001b[0m\u001b[37m\u001b[0m \u001b[1m0s\u001b[0m 2ms/step - accuracy: 0.8698 - loss: 0.3214 - val_accuracy: 0.8581 - val_loss: 0.3389\n",
      "Epoch 45/100\n",
      "\u001b[1m200/200\u001b[0m \u001b[32m━━━━━━━━━━━━━━━━━━━━\u001b[0m\u001b[37m\u001b[0m \u001b[1m0s\u001b[0m 2ms/step - accuracy: 0.8684 - loss: 0.3262 - val_accuracy: 0.8612 - val_loss: 0.3361\n",
      "Epoch 46/100\n",
      "\u001b[1m200/200\u001b[0m \u001b[32m━━━━━━━━━━━━━━━━━━━━\u001b[0m\u001b[37m\u001b[0m \u001b[1m0s\u001b[0m 2ms/step - accuracy: 0.8697 - loss: 0.3200 - val_accuracy: 0.8556 - val_loss: 0.3375\n",
      "Epoch 47/100\n",
      "\u001b[1m200/200\u001b[0m \u001b[32m━━━━━━━━━━━━━━━━━━━━\u001b[0m\u001b[37m\u001b[0m \u001b[1m0s\u001b[0m 2ms/step - accuracy: 0.8711 - loss: 0.3214 - val_accuracy: 0.8562 - val_loss: 0.3394\n",
      "Epoch 48/100\n",
      "\u001b[1m200/200\u001b[0m \u001b[32m━━━━━━━━━━━━━━━━━━━━\u001b[0m\u001b[37m\u001b[0m \u001b[1m0s\u001b[0m 2ms/step - accuracy: 0.8627 - loss: 0.3296 - val_accuracy: 0.8575 - val_loss: 0.3376\n",
      "Epoch 49/100\n",
      "\u001b[1m200/200\u001b[0m \u001b[32m━━━━━━━━━━━━━━━━━━━━\u001b[0m\u001b[37m\u001b[0m \u001b[1m0s\u001b[0m 2ms/step - accuracy: 0.8693 - loss: 0.3289 - val_accuracy: 0.8581 - val_loss: 0.3368\n",
      "Epoch 50/100\n",
      "\u001b[1m200/200\u001b[0m \u001b[32m━━━━━━━━━━━━━━━━━━━━\u001b[0m\u001b[37m\u001b[0m \u001b[1m0s\u001b[0m 2ms/step - accuracy: 0.8673 - loss: 0.3247 - val_accuracy: 0.8606 - val_loss: 0.3373\n",
      "Epoch 51/100\n",
      "\u001b[1m200/200\u001b[0m \u001b[32m━━━━━━━━━━━━━━━━━━━━\u001b[0m\u001b[37m\u001b[0m \u001b[1m0s\u001b[0m 2ms/step - accuracy: 0.8699 - loss: 0.3163 - val_accuracy: 0.8519 - val_loss: 0.3413\n",
      "Epoch 52/100\n",
      "\u001b[1m200/200\u001b[0m \u001b[32m━━━━━━━━━━━━━━━━━━━━\u001b[0m\u001b[37m\u001b[0m \u001b[1m0s\u001b[0m 2ms/step - accuracy: 0.8692 - loss: 0.3257 - val_accuracy: 0.8562 - val_loss: 0.3383\n",
      "Epoch 53/100\n",
      "\u001b[1m200/200\u001b[0m \u001b[32m━━━━━━━━━━━━━━━━━━━━\u001b[0m\u001b[37m\u001b[0m \u001b[1m0s\u001b[0m 2ms/step - accuracy: 0.8685 - loss: 0.3204 - val_accuracy: 0.8550 - val_loss: 0.3387\n",
      "Epoch 54/100\n",
      "\u001b[1m200/200\u001b[0m \u001b[32m━━━━━━━━━━━━━━━━━━━━\u001b[0m\u001b[37m\u001b[0m \u001b[1m0s\u001b[0m 2ms/step - accuracy: 0.8630 - loss: 0.3199 - val_accuracy: 0.8581 - val_loss: 0.3388\n",
      "Epoch 55/100\n",
      "\u001b[1m200/200\u001b[0m \u001b[32m━━━━━━━━━━━━━━━━━━━━\u001b[0m\u001b[37m\u001b[0m \u001b[1m0s\u001b[0m 2ms/step - accuracy: 0.8767 - loss: 0.3104 - val_accuracy: 0.8575 - val_loss: 0.3392\n",
      "Epoch 56/100\n",
      "\u001b[1m200/200\u001b[0m \u001b[32m━━━━━━━━━━━━━━━━━━━━\u001b[0m\u001b[37m\u001b[0m \u001b[1m0s\u001b[0m 2ms/step - accuracy: 0.8655 - loss: 0.3317 - val_accuracy: 0.8556 - val_loss: 0.3412\n",
      "Epoch 57/100\n",
      "\u001b[1m200/200\u001b[0m \u001b[32m━━━━━━━━━━━━━━━━━━━━\u001b[0m\u001b[37m\u001b[0m \u001b[1m0s\u001b[0m 2ms/step - accuracy: 0.8656 - loss: 0.3153 - val_accuracy: 0.8587 - val_loss: 0.3386\n",
      "Epoch 58/100\n",
      "\u001b[1m200/200\u001b[0m \u001b[32m━━━━━━━━━━━━━━━━━━━━\u001b[0m\u001b[37m\u001b[0m \u001b[1m0s\u001b[0m 2ms/step - accuracy: 0.8670 - loss: 0.3202 - val_accuracy: 0.8575 - val_loss: 0.3376\n",
      "Epoch 59/100\n",
      "\u001b[1m200/200\u001b[0m \u001b[32m━━━━━━━━━━━━━━━━━━━━\u001b[0m\u001b[37m\u001b[0m \u001b[1m0s\u001b[0m 2ms/step - accuracy: 0.8673 - loss: 0.3216 - val_accuracy: 0.8562 - val_loss: 0.3382\n",
      "Epoch 60/100\n",
      "\u001b[1m200/200\u001b[0m \u001b[32m━━━━━━━━━━━━━━━━━━━━\u001b[0m\u001b[37m\u001b[0m \u001b[1m0s\u001b[0m 2ms/step - accuracy: 0.8675 - loss: 0.3245 - val_accuracy: 0.8537 - val_loss: 0.3391\n",
      "Epoch 61/100\n",
      "\u001b[1m200/200\u001b[0m \u001b[32m━━━━━━━━━━━━━━━━━━━━\u001b[0m\u001b[37m\u001b[0m \u001b[1m0s\u001b[0m 2ms/step - accuracy: 0.8671 - loss: 0.3166 - val_accuracy: 0.8569 - val_loss: 0.3388\n",
      "Epoch 62/100\n",
      "\u001b[1m200/200\u001b[0m \u001b[32m━━━━━━━━━━━━━━━━━━━━\u001b[0m\u001b[37m\u001b[0m \u001b[1m0s\u001b[0m 2ms/step - accuracy: 0.8672 - loss: 0.3208 - val_accuracy: 0.8569 - val_loss: 0.3394\n",
      "Epoch 63/100\n",
      "\u001b[1m200/200\u001b[0m \u001b[32m━━━━━━━━━━━━━━━━━━━━\u001b[0m\u001b[37m\u001b[0m \u001b[1m0s\u001b[0m 2ms/step - accuracy: 0.8724 - loss: 0.3190 - val_accuracy: 0.8569 - val_loss: 0.3381\n",
      "Epoch 64/100\n",
      "\u001b[1m200/200\u001b[0m \u001b[32m━━━━━━━━━━━━━━━━━━━━\u001b[0m\u001b[37m\u001b[0m \u001b[1m0s\u001b[0m 2ms/step - accuracy: 0.8598 - loss: 0.3357 - val_accuracy: 0.8500 - val_loss: 0.3449\n",
      "Epoch 65/100\n",
      "\u001b[1m200/200\u001b[0m \u001b[32m━━━━━━━━━━━━━━━━━━━━\u001b[0m\u001b[37m\u001b[0m \u001b[1m0s\u001b[0m 2ms/step - accuracy: 0.8718 - loss: 0.3138 - val_accuracy: 0.8544 - val_loss: 0.3400\n",
      "Epoch 66/100\n",
      "\u001b[1m200/200\u001b[0m \u001b[32m━━━━━━━━━━━━━━━━━━━━\u001b[0m\u001b[37m\u001b[0m \u001b[1m0s\u001b[0m 2ms/step - accuracy: 0.8583 - loss: 0.3356 - val_accuracy: 0.8544 - val_loss: 0.3396\n",
      "Epoch 67/100\n",
      "\u001b[1m200/200\u001b[0m \u001b[32m━━━━━━━━━━━━━━━━━━━━\u001b[0m\u001b[37m\u001b[0m \u001b[1m0s\u001b[0m 2ms/step - accuracy: 0.8735 - loss: 0.3027 - val_accuracy: 0.8581 - val_loss: 0.3377\n",
      "Epoch 68/100\n",
      "\u001b[1m200/200\u001b[0m \u001b[32m━━━━━━━━━━━━━━━━━━━━\u001b[0m\u001b[37m\u001b[0m \u001b[1m0s\u001b[0m 2ms/step - accuracy: 0.8658 - loss: 0.3177 - val_accuracy: 0.8562 - val_loss: 0.3374\n",
      "Epoch 69/100\n",
      "\u001b[1m200/200\u001b[0m \u001b[32m━━━━━━━━━━━━━━━━━━━━\u001b[0m\u001b[37m\u001b[0m \u001b[1m0s\u001b[0m 2ms/step - accuracy: 0.8679 - loss: 0.3214 - val_accuracy: 0.8544 - val_loss: 0.3399\n",
      "Epoch 70/100\n",
      "\u001b[1m200/200\u001b[0m \u001b[32m━━━━━━━━━━━━━━━━━━━━\u001b[0m\u001b[37m\u001b[0m \u001b[1m0s\u001b[0m 2ms/step - accuracy: 0.8696 - loss: 0.3254 - val_accuracy: 0.8575 - val_loss: 0.3380\n",
      "Epoch 71/100\n",
      "\u001b[1m200/200\u001b[0m \u001b[32m━━━━━━━━━━━━━━━━━━━━\u001b[0m\u001b[37m\u001b[0m \u001b[1m0s\u001b[0m 2ms/step - accuracy: 0.8722 - loss: 0.3188 - val_accuracy: 0.8544 - val_loss: 0.3388\n",
      "Epoch 72/100\n",
      "\u001b[1m200/200\u001b[0m \u001b[32m━━━━━━━━━━━━━━━━━━━━\u001b[0m\u001b[37m\u001b[0m \u001b[1m0s\u001b[0m 2ms/step - accuracy: 0.8651 - loss: 0.3186 - val_accuracy: 0.8556 - val_loss: 0.3422\n",
      "Epoch 73/100\n",
      "\u001b[1m200/200\u001b[0m \u001b[32m━━━━━━━━━━━━━━━━━━━━\u001b[0m\u001b[37m\u001b[0m \u001b[1m0s\u001b[0m 2ms/step - accuracy: 0.8752 - loss: 0.3034 - val_accuracy: 0.8569 - val_loss: 0.3383\n",
      "Epoch 74/100\n",
      "\u001b[1m200/200\u001b[0m \u001b[32m━━━━━━━━━━━━━━━━━━━━\u001b[0m\u001b[37m\u001b[0m \u001b[1m0s\u001b[0m 2ms/step - accuracy: 0.8682 - loss: 0.3187 - val_accuracy: 0.8544 - val_loss: 0.3392\n",
      "Epoch 75/100\n",
      "\u001b[1m200/200\u001b[0m \u001b[32m━━━━━━━━━━━━━━━━━━━━\u001b[0m\u001b[37m\u001b[0m \u001b[1m0s\u001b[0m 2ms/step - accuracy: 0.8587 - loss: 0.3331 - val_accuracy: 0.8544 - val_loss: 0.3394\n",
      "Epoch 76/100\n",
      "\u001b[1m200/200\u001b[0m \u001b[32m━━━━━━━━━━━━━━━━━━━━\u001b[0m\u001b[37m\u001b[0m \u001b[1m0s\u001b[0m 2ms/step - accuracy: 0.8685 - loss: 0.3078 - val_accuracy: 0.8594 - val_loss: 0.3380\n",
      "Epoch 77/100\n",
      "\u001b[1m200/200\u001b[0m \u001b[32m━━━━━━━━━━━━━━━━━━━━\u001b[0m\u001b[37m\u001b[0m \u001b[1m0s\u001b[0m 2ms/step - accuracy: 0.8599 - loss: 0.3317 - val_accuracy: 0.8550 - val_loss: 0.3389\n",
      "Epoch 78/100\n",
      "\u001b[1m200/200\u001b[0m \u001b[32m━━━━━━━━━━━━━━━━━━━━\u001b[0m\u001b[37m\u001b[0m \u001b[1m0s\u001b[0m 2ms/step - accuracy: 0.8743 - loss: 0.3090 - val_accuracy: 0.8544 - val_loss: 0.3422\n",
      "Epoch 79/100\n",
      "\u001b[1m200/200\u001b[0m \u001b[32m━━━━━━━━━━━━━━━━━━━━\u001b[0m\u001b[37m\u001b[0m \u001b[1m0s\u001b[0m 2ms/step - accuracy: 0.8756 - loss: 0.3093 - val_accuracy: 0.8506 - val_loss: 0.3403\n",
      "Epoch 80/100\n",
      "\u001b[1m200/200\u001b[0m \u001b[32m━━━━━━━━━━━━━━━━━━━━\u001b[0m\u001b[37m\u001b[0m \u001b[1m0s\u001b[0m 2ms/step - accuracy: 0.8754 - loss: 0.3051 - val_accuracy: 0.8544 - val_loss: 0.3396\n",
      "Epoch 81/100\n",
      "\u001b[1m200/200\u001b[0m \u001b[32m━━━━━━━━━━━━━━━━━━━━\u001b[0m\u001b[37m\u001b[0m \u001b[1m0s\u001b[0m 2ms/step - accuracy: 0.8639 - loss: 0.3241 - val_accuracy: 0.8537 - val_loss: 0.3413\n",
      "Epoch 82/100\n",
      "\u001b[1m200/200\u001b[0m \u001b[32m━━━━━━━━━━━━━━━━━━━━\u001b[0m\u001b[37m\u001b[0m \u001b[1m0s\u001b[0m 2ms/step - accuracy: 0.8616 - loss: 0.3297 - val_accuracy: 0.8506 - val_loss: 0.3398\n",
      "Epoch 83/100\n",
      "\u001b[1m200/200\u001b[0m \u001b[32m━━━━━━━━━━━━━━━━━━━━\u001b[0m\u001b[37m\u001b[0m \u001b[1m0s\u001b[0m 2ms/step - accuracy: 0.8769 - loss: 0.3027 - val_accuracy: 0.8500 - val_loss: 0.3413\n",
      "Epoch 84/100\n",
      "\u001b[1m200/200\u001b[0m \u001b[32m━━━━━━━━━━━━━━━━━━━━\u001b[0m\u001b[37m\u001b[0m \u001b[1m0s\u001b[0m 2ms/step - accuracy: 0.8765 - loss: 0.3096 - val_accuracy: 0.8512 - val_loss: 0.3410\n",
      "Epoch 85/100\n",
      "\u001b[1m200/200\u001b[0m \u001b[32m━━━━━━━━━━━━━━━━━━━━\u001b[0m\u001b[37m\u001b[0m \u001b[1m0s\u001b[0m 2ms/step - accuracy: 0.8647 - loss: 0.3211 - val_accuracy: 0.8519 - val_loss: 0.3425\n",
      "Epoch 86/100\n",
      "\u001b[1m200/200\u001b[0m \u001b[32m━━━━━━━━━━━━━━━━━━━━\u001b[0m\u001b[37m\u001b[0m \u001b[1m0s\u001b[0m 2ms/step - accuracy: 0.8651 - loss: 0.3165 - val_accuracy: 0.8537 - val_loss: 0.3412\n",
      "Epoch 87/100\n",
      "\u001b[1m200/200\u001b[0m \u001b[32m━━━━━━━━━━━━━━━━━━━━\u001b[0m\u001b[37m\u001b[0m \u001b[1m0s\u001b[0m 2ms/step - accuracy: 0.8696 - loss: 0.3122 - val_accuracy: 0.8506 - val_loss: 0.3425\n",
      "Epoch 88/100\n",
      "\u001b[1m200/200\u001b[0m \u001b[32m━━━━━━━━━━━━━━━━━━━━\u001b[0m\u001b[37m\u001b[0m \u001b[1m0s\u001b[0m 2ms/step - accuracy: 0.8698 - loss: 0.3171 - val_accuracy: 0.8544 - val_loss: 0.3436\n",
      "Epoch 89/100\n",
      "\u001b[1m200/200\u001b[0m \u001b[32m━━━━━━━━━━━━━━━━━━━━\u001b[0m\u001b[37m\u001b[0m \u001b[1m0s\u001b[0m 2ms/step - accuracy: 0.8658 - loss: 0.3228 - val_accuracy: 0.8519 - val_loss: 0.3419\n",
      "Epoch 90/100\n",
      "\u001b[1m200/200\u001b[0m \u001b[32m━━━━━━━━━━━━━━━━━━━━\u001b[0m\u001b[37m\u001b[0m \u001b[1m0s\u001b[0m 2ms/step - accuracy: 0.8749 - loss: 0.2992 - val_accuracy: 0.8512 - val_loss: 0.3411\n",
      "Epoch 91/100\n",
      "\u001b[1m200/200\u001b[0m \u001b[32m━━━━━━━━━━━━━━━━━━━━\u001b[0m\u001b[37m\u001b[0m \u001b[1m0s\u001b[0m 2ms/step - accuracy: 0.8681 - loss: 0.3110 - val_accuracy: 0.8481 - val_loss: 0.3410\n",
      "Epoch 92/100\n",
      "\u001b[1m200/200\u001b[0m \u001b[32m━━━━━━━━━━━━━━━━━━━━\u001b[0m\u001b[37m\u001b[0m \u001b[1m0s\u001b[0m 2ms/step - accuracy: 0.8644 - loss: 0.3238 - val_accuracy: 0.8519 - val_loss: 0.3408\n",
      "Epoch 93/100\n",
      "\u001b[1m200/200\u001b[0m \u001b[32m━━━━━━━━━━━━━━━━━━━━\u001b[0m\u001b[37m\u001b[0m \u001b[1m0s\u001b[0m 2ms/step - accuracy: 0.8669 - loss: 0.3172 - val_accuracy: 0.8537 - val_loss: 0.3421\n",
      "Epoch 94/100\n",
      "\u001b[1m200/200\u001b[0m \u001b[32m━━━━━━━━━━━━━━━━━━━━\u001b[0m\u001b[37m\u001b[0m \u001b[1m0s\u001b[0m 2ms/step - accuracy: 0.8718 - loss: 0.3163 - val_accuracy: 0.8512 - val_loss: 0.3399\n",
      "Epoch 95/100\n",
      "\u001b[1m200/200\u001b[0m \u001b[32m━━━━━━━━━━━━━━━━━━━━\u001b[0m\u001b[37m\u001b[0m \u001b[1m0s\u001b[0m 2ms/step - accuracy: 0.8674 - loss: 0.3137 - val_accuracy: 0.8525 - val_loss: 0.3445\n",
      "Epoch 96/100\n",
      "\u001b[1m200/200\u001b[0m \u001b[32m━━━━━━━━━━━━━━━━━━━━\u001b[0m\u001b[37m\u001b[0m \u001b[1m0s\u001b[0m 2ms/step - accuracy: 0.8640 - loss: 0.3294 - val_accuracy: 0.8525 - val_loss: 0.3415\n",
      "Epoch 97/100\n",
      "\u001b[1m200/200\u001b[0m \u001b[32m━━━━━━━━━━━━━━━━━━━━\u001b[0m\u001b[37m\u001b[0m \u001b[1m0s\u001b[0m 2ms/step - accuracy: 0.8681 - loss: 0.3164 - val_accuracy: 0.8519 - val_loss: 0.3412\n",
      "Epoch 98/100\n",
      "\u001b[1m200/200\u001b[0m \u001b[32m━━━━━━━━━━━━━━━━━━━━\u001b[0m\u001b[37m\u001b[0m \u001b[1m0s\u001b[0m 2ms/step - accuracy: 0.8664 - loss: 0.3179 - val_accuracy: 0.8500 - val_loss: 0.3408\n",
      "Epoch 99/100\n",
      "\u001b[1m200/200\u001b[0m \u001b[32m━━━━━━━━━━━━━━━━━━━━\u001b[0m\u001b[37m\u001b[0m \u001b[1m0s\u001b[0m 2ms/step - accuracy: 0.8707 - loss: 0.3041 - val_accuracy: 0.8469 - val_loss: 0.3427\n",
      "Epoch 100/100\n",
      "\u001b[1m200/200\u001b[0m \u001b[32m━━━━━━━━━━━━━━━━━━━━\u001b[0m\u001b[37m\u001b[0m \u001b[1m0s\u001b[0m 2ms/step - accuracy: 0.8659 - loss: 0.3136 - val_accuracy: 0.8525 - val_loss: 0.3419\n"
     ]
    }
   ],
   "source": [
    "history=model.fit(X_train_scaled,y_train,epochs=100,validation_split=0.2)"
   ]
  },
  {
   "cell_type": "markdown",
   "id": "40b0b065",
   "metadata": {
    "papermill": {
     "duration": 0.088092,
     "end_time": "2024-05-03T12:52:37.595804",
     "exception": false,
     "start_time": "2024-05-03T12:52:37.507712",
     "status": "completed"
    },
    "tags": []
   },
   "source": [
    "accuracy should increase whereas loss should decrease"
   ]
  },
  {
   "cell_type": "code",
   "execution_count": 23,
   "id": "b365ba2f",
   "metadata": {
    "execution": {
     "iopub.execute_input": "2024-05-03T12:52:37.842421Z",
     "iopub.status.busy": "2024-05-03T12:52:37.841979Z",
     "iopub.status.idle": "2024-05-03T12:52:37.855449Z",
     "shell.execute_reply": "2024-05-03T12:52:37.854337Z"
    },
    "papermill": {
     "duration": 0.172577,
     "end_time": "2024-05-03T12:52:37.857982",
     "exception": false,
     "start_time": "2024-05-03T12:52:37.685405",
     "status": "completed"
    },
    "tags": []
   },
   "outputs": [
    {
     "data": {
      "text/plain": [
       "[array([[-9.31400806e-02, -3.16776820e-02, -2.86757629e-02,\n",
       "          3.80057395e-01,  6.28182471e-01,  4.13091853e-04,\n",
       "          3.76375973e-01, -2.97957093e-01, -3.16659033e-01,\n",
       "         -7.28686631e-01, -5.20930707e-01],\n",
       "        [-6.50708377e-01, -3.34607124e-01,  6.00755274e-01,\n",
       "          7.11452603e-01, -3.32492813e-02,  7.31437922e-01,\n",
       "         -3.92042339e-01,  1.22272402e-01, -7.31463283e-02,\n",
       "          2.84175634e-01, -2.18092704e+00],\n",
       "        [-7.68851340e-01, -3.05705130e-01,  8.56087267e-01,\n",
       "          7.06906617e-01,  3.58799961e-03,  5.66856563e-01,\n",
       "          2.33601909e-02,  2.28147969e-01,  5.65647840e-01,\n",
       "          4.33382899e-01,  4.43729639e-01],\n",
       "        [ 4.27465998e-02, -9.15282592e-02,  5.70642710e-01,\n",
       "         -1.53005878e-02,  3.32758218e-01,  1.59077629e-01,\n",
       "          5.96678674e-01,  6.83405519e-01,  1.34653404e-01,\n",
       "         -2.27140650e-01,  4.35122475e-02],\n",
       "        [-2.18076244e-01,  5.94600976e-01, -1.15814231e-01,\n",
       "         -1.05039492e-01, -2.50807405e-01,  1.16215706e-01,\n",
       "         -9.94841009e-02,  5.22064567e-01, -2.43575379e-01,\n",
       "          1.18359998e-02, -7.25078225e-01],\n",
       "        [-9.04102683e-01,  2.70237625e-01, -5.99122226e-01,\n",
       "         -6.16801679e-01, -6.56095028e-01,  2.96667308e-01,\n",
       "         -1.67865193e+00,  6.72188997e-02,  6.64861321e-01,\n",
       "         -4.98060018e-01,  6.99161366e-02],\n",
       "        [-2.95886576e-01, -2.36662447e-01, -2.14638919e-01,\n",
       "          2.48516828e-01, -2.11511701e-01,  1.43885255e-01,\n",
       "          4.54466790e-01,  2.76014119e-01,  4.34534818e-01,\n",
       "         -4.05978933e-02,  6.92995638e-02],\n",
       "        [ 4.07138407e-01,  1.22640538e+00, -5.30769765e-01,\n",
       "          1.53627098e-01,  3.27420473e-01, -5.39273202e-01,\n",
       "         -8.87822092e-01, -1.72291383e-01, -9.20257449e-01,\n",
       "          2.76722729e-01,  4.05349396e-02],\n",
       "        [ 4.84351158e-01,  9.72300991e-02, -8.99901509e-01,\n",
       "         -5.42106271e-01, -7.40513742e-01, -4.22168612e-01,\n",
       "          9.64577258e-01, -3.43394488e-01, -1.43561155e-01,\n",
       "          1.60893142e-01, -1.44658595e-01],\n",
       "        [ 2.89171133e-02,  1.11711752e+00, -2.06115991e-01,\n",
       "         -3.45859498e-01, -9.17830272e-04, -9.78884548e-02,\n",
       "          6.28754318e-01, -4.88716185e-01,  1.20484501e-01,\n",
       "          2.88444579e-01, -3.77866514e-02],\n",
       "        [ 3.47318232e-01,  2.16142088e-01,  1.02535188e-01,\n",
       "          1.31812096e-01, -3.58746380e-01,  2.48256147e-01,\n",
       "          5.30375838e-01, -6.35574520e-01,  8.79492313e-02,\n",
       "          2.36346349e-01, -1.77223712e-01]], dtype=float32),\n",
       " array([ 0.17736994, -0.04996268, -0.57023525,  0.45104757,  0.44907537,\n",
       "         0.40390056,  0.01040543,  0.3682929 ,  0.45122522,  0.24029595,\n",
       "         0.35101643], dtype=float32)]"
      ]
     },
     "execution_count": 23,
     "metadata": {},
     "output_type": "execute_result"
    }
   ],
   "source": [
    "model.layers[1].get_weights()"
   ]
  },
  {
   "cell_type": "code",
   "execution_count": 24,
   "id": "ee3f9e1f",
   "metadata": {
    "execution": {
     "iopub.execute_input": "2024-05-03T12:52:38.040176Z",
     "iopub.status.busy": "2024-05-03T12:52:38.039727Z",
     "iopub.status.idle": "2024-05-03T12:52:38.310192Z",
     "shell.execute_reply": "2024-05-03T12:52:38.308942Z"
    },
    "papermill": {
     "duration": 0.365366,
     "end_time": "2024-05-03T12:52:38.313108",
     "exception": false,
     "start_time": "2024-05-03T12:52:37.947742",
     "status": "completed"
    },
    "tags": []
   },
   "outputs": [
    {
     "name": "stdout",
     "output_type": "stream",
     "text": [
      "\u001b[1m63/63\u001b[0m \u001b[32m━━━━━━━━━━━━━━━━━━━━\u001b[0m\u001b[37m\u001b[0m \u001b[1m0s\u001b[0m 2ms/step\n"
     ]
    }
   ],
   "source": [
    "y_log=model.predict(X_test_scaled)"
   ]
  },
  {
   "cell_type": "code",
   "execution_count": 25,
   "id": "6d698078",
   "metadata": {
    "execution": {
     "iopub.execute_input": "2024-05-03T12:52:38.496844Z",
     "iopub.status.busy": "2024-05-03T12:52:38.496437Z",
     "iopub.status.idle": "2024-05-03T12:52:38.504241Z",
     "shell.execute_reply": "2024-05-03T12:52:38.503187Z"
    },
    "papermill": {
     "duration": 0.103281,
     "end_time": "2024-05-03T12:52:38.506711",
     "exception": false,
     "start_time": "2024-05-03T12:52:38.403430",
     "status": "completed"
    },
    "tags": []
   },
   "outputs": [
    {
     "data": {
      "text/plain": [
       "array([[0.01126855],\n",
       "       [0.1138766 ],\n",
       "       [0.03013948],\n",
       "       ...,\n",
       "       [0.00404981],\n",
       "       [0.03188874],\n",
       "       [0.35501504]], dtype=float32)"
      ]
     },
     "execution_count": 25,
     "metadata": {},
     "output_type": "execute_result"
    }
   ],
   "source": [
    "y_log"
   ]
  },
  {
   "cell_type": "code",
   "execution_count": 26,
   "id": "98fb48a9",
   "metadata": {
    "execution": {
     "iopub.execute_input": "2024-05-03T12:52:38.692834Z",
     "iopub.status.busy": "2024-05-03T12:52:38.692427Z",
     "iopub.status.idle": "2024-05-03T12:52:38.697788Z",
     "shell.execute_reply": "2024-05-03T12:52:38.696508Z"
    },
    "papermill": {
     "duration": 0.101317,
     "end_time": "2024-05-03T12:52:38.700221",
     "exception": false,
     "start_time": "2024-05-03T12:52:38.598904",
     "status": "completed"
    },
    "tags": []
   },
   "outputs": [],
   "source": [
    "y_pred=np.where(y_log>0.5,1,0)"
   ]
  },
  {
   "cell_type": "code",
   "execution_count": 27,
   "id": "80c4c892",
   "metadata": {
    "execution": {
     "iopub.execute_input": "2024-05-03T12:52:38.885017Z",
     "iopub.status.busy": "2024-05-03T12:52:38.884558Z",
     "iopub.status.idle": "2024-05-03T12:52:38.893776Z",
     "shell.execute_reply": "2024-05-03T12:52:38.892693Z"
    },
    "papermill": {
     "duration": 0.105291,
     "end_time": "2024-05-03T12:52:38.896313",
     "exception": false,
     "start_time": "2024-05-03T12:52:38.791022",
     "status": "completed"
    },
    "tags": []
   },
   "outputs": [
    {
     "data": {
      "text/plain": [
       "0.859"
      ]
     },
     "execution_count": 27,
     "metadata": {},
     "output_type": "execute_result"
    }
   ],
   "source": [
    "from sklearn.metrics import accuracy_score\n",
    "accuracy_score(y_test,y_pred)"
   ]
  },
  {
   "cell_type": "code",
   "execution_count": 28,
   "id": "ede7a977",
   "metadata": {
    "execution": {
     "iopub.execute_input": "2024-05-03T12:52:39.080044Z",
     "iopub.status.busy": "2024-05-03T12:52:39.079313Z",
     "iopub.status.idle": "2024-05-03T12:52:39.084763Z",
     "shell.execute_reply": "2024-05-03T12:52:39.083674Z"
    },
    "papermill": {
     "duration": 0.100482,
     "end_time": "2024-05-03T12:52:39.087195",
     "exception": false,
     "start_time": "2024-05-03T12:52:38.986713",
     "status": "completed"
    },
    "tags": []
   },
   "outputs": [],
   "source": [
    "import matplotlib.pyplot as plt\n"
   ]
  },
  {
   "cell_type": "code",
   "execution_count": 29,
   "id": "99a3bc2a",
   "metadata": {
    "collapsed": true,
    "execution": {
     "iopub.execute_input": "2024-05-03T12:52:39.269804Z",
     "iopub.status.busy": "2024-05-03T12:52:39.268706Z",
     "iopub.status.idle": "2024-05-03T12:52:39.284101Z",
     "shell.execute_reply": "2024-05-03T12:52:39.282980Z"
    },
    "jupyter": {
     "outputs_hidden": true
    },
    "papermill": {
     "duration": 0.109459,
     "end_time": "2024-05-03T12:52:39.286469",
     "exception": false,
     "start_time": "2024-05-03T12:52:39.177010",
     "status": "completed"
    },
    "tags": []
   },
   "outputs": [
    {
     "data": {
      "text/plain": [
       "{'accuracy': [0.7501562237739563,\n",
       "  0.7984374761581421,\n",
       "  0.8065624833106995,\n",
       "  0.8112499713897705,\n",
       "  0.8178125023841858,\n",
       "  0.8293750286102295,\n",
       "  0.8371875286102295,\n",
       "  0.8428124785423279,\n",
       "  0.8487499952316284,\n",
       "  0.8504687547683716,\n",
       "  0.856249988079071,\n",
       "  0.8571875095367432,\n",
       "  0.8559374809265137,\n",
       "  0.8570312261581421,\n",
       "  0.858593761920929,\n",
       "  0.8626562356948853,\n",
       "  0.8603125214576721,\n",
       "  0.8620312213897705,\n",
       "  0.8614062666893005,\n",
       "  0.8614062666893005,\n",
       "  0.8610937595367432,\n",
       "  0.8621875047683716,\n",
       "  0.8617187738418579,\n",
       "  0.8628125190734863,\n",
       "  0.864062488079071,\n",
       "  0.8642187714576721,\n",
       "  0.864062488079071,\n",
       "  0.8645312786102295,\n",
       "  0.8646875023841858,\n",
       "  0.8637499809265137,\n",
       "  0.8643749952316284,\n",
       "  0.8662499785423279,\n",
       "  0.8665624856948853,\n",
       "  0.8648437261581421,\n",
       "  0.8671875,\n",
       "  0.8648437261581421,\n",
       "  0.8662499785423279,\n",
       "  0.8642187714576721,\n",
       "  0.8654687404632568,\n",
       "  0.8681250214576721,\n",
       "  0.8646875023841858,\n",
       "  0.8639062643051147,\n",
       "  0.8657812476158142,\n",
       "  0.8656250238418579,\n",
       "  0.8670312762260437,\n",
       "  0.8660937547683716,\n",
       "  0.8668749928474426,\n",
       "  0.8667187690734863,\n",
       "  0.8676562309265137,\n",
       "  0.8670312762260437,\n",
       "  0.8657812476158142,\n",
       "  0.866406261920929,\n",
       "  0.8668749928474426,\n",
       "  0.8653125166893005,\n",
       "  0.8689062595367432,\n",
       "  0.8692187666893005,\n",
       "  0.8651562333106995,\n",
       "  0.8667187690734863,\n",
       "  0.8671875,\n",
       "  0.8681250214576721,\n",
       "  0.8671875,\n",
       "  0.8678125143051147,\n",
       "  0.8681250214576721,\n",
       "  0.8692187666893005,\n",
       "  0.8687499761581421,\n",
       "  0.866406261920929,\n",
       "  0.8690624833106995,\n",
       "  0.8678125143051147,\n",
       "  0.8689062595367432,\n",
       "  0.8678125143051147,\n",
       "  0.8698437213897705,\n",
       "  0.8673437237739563,\n",
       "  0.8700000047683716,\n",
       "  0.8709375262260437,\n",
       "  0.8687499761581421,\n",
       "  0.8676562309265137,\n",
       "  0.8693749904632568,\n",
       "  0.8692187666893005,\n",
       "  0.8685937523841858,\n",
       "  0.8690624833106995,\n",
       "  0.8706250190734863,\n",
       "  0.870312511920929,\n",
       "  0.8695312738418579,\n",
       "  0.8700000047683716,\n",
       "  0.8690624833106995,\n",
       "  0.8681250214576721,\n",
       "  0.8693749904632568,\n",
       "  0.8693749904632568,\n",
       "  0.870312511920929,\n",
       "  0.8701562285423279,\n",
       "  0.8712499737739563,\n",
       "  0.8690624833106995,\n",
       "  0.8707812428474426,\n",
       "  0.8701562285423279,\n",
       "  0.8701562285423279,\n",
       "  0.8682812452316284,\n",
       "  0.8701562285423279,\n",
       "  0.8701562285423279,\n",
       "  0.870312511920929,\n",
       "  0.8693749904632568],\n",
       " 'loss': [0.5616016387939453,\n",
       "  0.464424729347229,\n",
       "  0.4411194622516632,\n",
       "  0.4262361526489258,\n",
       "  0.4126618206501007,\n",
       "  0.40113964676856995,\n",
       "  0.3895363211631775,\n",
       "  0.3788415789604187,\n",
       "  0.36963194608688354,\n",
       "  0.36200717091560364,\n",
       "  0.3569503426551819,\n",
       "  0.35292068123817444,\n",
       "  0.35071972012519836,\n",
       "  0.34776321053504944,\n",
       "  0.34585505723953247,\n",
       "  0.3445643186569214,\n",
       "  0.3430045247077942,\n",
       "  0.34205833077430725,\n",
       "  0.3413241505622864,\n",
       "  0.3401969075202942,\n",
       "  0.33934757113456726,\n",
       "  0.33913642168045044,\n",
       "  0.3381054401397705,\n",
       "  0.33788180351257324,\n",
       "  0.3365151584148407,\n",
       "  0.33557823300361633,\n",
       "  0.33568698167800903,\n",
       "  0.3350936472415924,\n",
       "  0.33482715487480164,\n",
       "  0.3333973288536072,\n",
       "  0.33326244354248047,\n",
       "  0.3327457308769226,\n",
       "  0.3323127329349518,\n",
       "  0.33183521032333374,\n",
       "  0.3311983048915863,\n",
       "  0.33069461584091187,\n",
       "  0.33088573813438416,\n",
       "  0.32990196347236633,\n",
       "  0.3294964134693146,\n",
       "  0.32891926169395447,\n",
       "  0.32859092950820923,\n",
       "  0.3280608355998993,\n",
       "  0.32755622267723083,\n",
       "  0.3276653289794922,\n",
       "  0.3269718289375305,\n",
       "  0.32693958282470703,\n",
       "  0.325883150100708,\n",
       "  0.32602715492248535,\n",
       "  0.3253477215766907,\n",
       "  0.3246441185474396,\n",
       "  0.3246736228466034,\n",
       "  0.32425856590270996,\n",
       "  0.32364997267723083,\n",
       "  0.32324957847595215,\n",
       "  0.3226243555545807,\n",
       "  0.32293927669525146,\n",
       "  0.3220865726470947,\n",
       "  0.32237252593040466,\n",
       "  0.3216652274131775,\n",
       "  0.3211270570755005,\n",
       "  0.321209192276001,\n",
       "  0.321065217256546,\n",
       "  0.3202225863933563,\n",
       "  0.3191065490245819,\n",
       "  0.3200940787792206,\n",
       "  0.32012295722961426,\n",
       "  0.32029929757118225,\n",
       "  0.31913071870803833,\n",
       "  0.31866151094436646,\n",
       "  0.31852567195892334,\n",
       "  0.3178640305995941,\n",
       "  0.3178008794784546,\n",
       "  0.31806910037994385,\n",
       "  0.3176385760307312,\n",
       "  0.3174659013748169,\n",
       "  0.31666603684425354,\n",
       "  0.3168770372867584,\n",
       "  0.3169231414794922,\n",
       "  0.31664302945137024,\n",
       "  0.31673938035964966,\n",
       "  0.3162476420402527,\n",
       "  0.31603360176086426,\n",
       "  0.31585872173309326,\n",
       "  0.315724641084671,\n",
       "  0.3155406415462494,\n",
       "  0.31584957242012024,\n",
       "  0.3151112198829651,\n",
       "  0.3149433732032776,\n",
       "  0.31490376591682434,\n",
       "  0.31418323516845703,\n",
       "  0.315028578042984,\n",
       "  0.31402677297592163,\n",
       "  0.31459954380989075,\n",
       "  0.31476905941963196,\n",
       "  0.3144500255584717,\n",
       "  0.314397931098938,\n",
       "  0.31421929597854614,\n",
       "  0.31405723094940186,\n",
       "  0.3134325444698334,\n",
       "  0.3140684962272644],\n",
       " 'val_accuracy': [0.7981250286102295,\n",
       "  0.8018749952316284,\n",
       "  0.8081250190734863,\n",
       "  0.8149999976158142,\n",
       "  0.8199999928474426,\n",
       "  0.8331249952316284,\n",
       "  0.8374999761581421,\n",
       "  0.8431249856948853,\n",
       "  0.8462499976158142,\n",
       "  0.8475000262260437,\n",
       "  0.8475000262260437,\n",
       "  0.8512499928474426,\n",
       "  0.8525000214576721,\n",
       "  0.8506249785423279,\n",
       "  0.8525000214576721,\n",
       "  0.8525000214576721,\n",
       "  0.8531249761581421,\n",
       "  0.8525000214576721,\n",
       "  0.8531249761581421,\n",
       "  0.8531249761581421,\n",
       "  0.8518750071525574,\n",
       "  0.8543750047683716,\n",
       "  0.8525000214576721,\n",
       "  0.8531249761581421,\n",
       "  0.8550000190734863,\n",
       "  0.8531249761581421,\n",
       "  0.8500000238418579,\n",
       "  0.8537499904632568,\n",
       "  0.8556249737739563,\n",
       "  0.8568750023841858,\n",
       "  0.8556249737739563,\n",
       "  0.8537499904632568,\n",
       "  0.8531249761581421,\n",
       "  0.8587499856948853,\n",
       "  0.856249988079071,\n",
       "  0.856249988079071,\n",
       "  0.8518750071525574,\n",
       "  0.8550000190734863,\n",
       "  0.8518750071525574,\n",
       "  0.856249988079071,\n",
       "  0.8581249713897705,\n",
       "  0.856249988079071,\n",
       "  0.856249988079071,\n",
       "  0.8581249713897705,\n",
       "  0.8612499833106995,\n",
       "  0.8556249737739563,\n",
       "  0.856249988079071,\n",
       "  0.8575000166893005,\n",
       "  0.8581249713897705,\n",
       "  0.8606250286102295,\n",
       "  0.8518750071525574,\n",
       "  0.856249988079071,\n",
       "  0.8550000190734863,\n",
       "  0.8581249713897705,\n",
       "  0.8575000166893005,\n",
       "  0.8556249737739563,\n",
       "  0.8587499856948853,\n",
       "  0.8575000166893005,\n",
       "  0.856249988079071,\n",
       "  0.8537499904632568,\n",
       "  0.8568750023841858,\n",
       "  0.8568750023841858,\n",
       "  0.8568750023841858,\n",
       "  0.8500000238418579,\n",
       "  0.8543750047683716,\n",
       "  0.8543750047683716,\n",
       "  0.8581249713897705,\n",
       "  0.856249988079071,\n",
       "  0.8543750047683716,\n",
       "  0.8575000166893005,\n",
       "  0.8543750047683716,\n",
       "  0.8556249737739563,\n",
       "  0.8568750023841858,\n",
       "  0.8543750047683716,\n",
       "  0.8543750047683716,\n",
       "  0.859375,\n",
       "  0.8550000190734863,\n",
       "  0.8543750047683716,\n",
       "  0.8506249785423279,\n",
       "  0.8543750047683716,\n",
       "  0.8537499904632568,\n",
       "  0.8506249785423279,\n",
       "  0.8500000238418579,\n",
       "  0.8512499928474426,\n",
       "  0.8518750071525574,\n",
       "  0.8537499904632568,\n",
       "  0.8506249785423279,\n",
       "  0.8543750047683716,\n",
       "  0.8518750071525574,\n",
       "  0.8512499928474426,\n",
       "  0.8481249809265137,\n",
       "  0.8518750071525574,\n",
       "  0.8537499904632568,\n",
       "  0.8512499928474426,\n",
       "  0.8525000214576721,\n",
       "  0.8525000214576721,\n",
       "  0.8518750071525574,\n",
       "  0.8500000238418579,\n",
       "  0.846875011920929,\n",
       "  0.8525000214576721],\n",
       " 'val_loss': [0.49297839403152466,\n",
       "  0.45829522609710693,\n",
       "  0.4399765431880951,\n",
       "  0.42375221848487854,\n",
       "  0.4099443554878235,\n",
       "  0.3959328830242157,\n",
       "  0.38462498784065247,\n",
       "  0.3723810911178589,\n",
       "  0.36255699396133423,\n",
       "  0.357351154088974,\n",
       "  0.3528669774532318,\n",
       "  0.35036376118659973,\n",
       "  0.3465222418308258,\n",
       "  0.34465667605400085,\n",
       "  0.3461085259914398,\n",
       "  0.3446265161037445,\n",
       "  0.3438526391983032,\n",
       "  0.3439873456954956,\n",
       "  0.34149226546287537,\n",
       "  0.3409091830253601,\n",
       "  0.3407007157802582,\n",
       "  0.3407256007194519,\n",
       "  0.3415893316268921,\n",
       "  0.34065502882003784,\n",
       "  0.3404439687728882,\n",
       "  0.3403775691986084,\n",
       "  0.33971190452575684,\n",
       "  0.3409765958786011,\n",
       "  0.3401809632778168,\n",
       "  0.33786648511886597,\n",
       "  0.3407104015350342,\n",
       "  0.3389637768268585,\n",
       "  0.3402758836746216,\n",
       "  0.33798322081565857,\n",
       "  0.3387218713760376,\n",
       "  0.3383622467517853,\n",
       "  0.3416277766227722,\n",
       "  0.338998407125473,\n",
       "  0.34284165501594543,\n",
       "  0.33844929933547974,\n",
       "  0.33862608671188354,\n",
       "  0.33814457058906555,\n",
       "  0.33906444907188416,\n",
       "  0.3388773202896118,\n",
       "  0.33614128828048706,\n",
       "  0.33748820424079895,\n",
       "  0.339376300573349,\n",
       "  0.33755189180374146,\n",
       "  0.3367573916912079,\n",
       "  0.33730679750442505,\n",
       "  0.3412777781486511,\n",
       "  0.33825793862342834,\n",
       "  0.33870193362236023,\n",
       "  0.33883243799209595,\n",
       "  0.3392290771007538,\n",
       "  0.3411720395088196,\n",
       "  0.33863770961761475,\n",
       "  0.33761101961135864,\n",
       "  0.33817675709724426,\n",
       "  0.33914822340011597,\n",
       "  0.3388150930404663,\n",
       "  0.3393635153770447,\n",
       "  0.3380916118621826,\n",
       "  0.34491971135139465,\n",
       "  0.3400336802005768,\n",
       "  0.33961737155914307,\n",
       "  0.3377450108528137,\n",
       "  0.33744680881500244,\n",
       "  0.33989444375038147,\n",
       "  0.3379611670970917,\n",
       "  0.33876922726631165,\n",
       "  0.34220561385154724,\n",
       "  0.3382928967475891,\n",
       "  0.3391725420951843,\n",
       "  0.33940720558166504,\n",
       "  0.3380284011363983,\n",
       "  0.33885645866394043,\n",
       "  0.3422170877456665,\n",
       "  0.3403247594833374,\n",
       "  0.3396413028240204,\n",
       "  0.3412594497203827,\n",
       "  0.33981674909591675,\n",
       "  0.34125664830207825,\n",
       "  0.3409980535507202,\n",
       "  0.34250980615615845,\n",
       "  0.3412232995033264,\n",
       "  0.3425256311893463,\n",
       "  0.34362953901290894,\n",
       "  0.34189683198928833,\n",
       "  0.34107327461242676,\n",
       "  0.34097084403038025,\n",
       "  0.3408380448818207,\n",
       "  0.34214404225349426,\n",
       "  0.33991265296936035,\n",
       "  0.34446242451667786,\n",
       "  0.3414929509162903,\n",
       "  0.3411519527435303,\n",
       "  0.3408413231372833,\n",
       "  0.34268084168434143,\n",
       "  0.3418722152709961]}"
      ]
     },
     "execution_count": 29,
     "metadata": {},
     "output_type": "execute_result"
    }
   ],
   "source": [
    "history.history# gives the dictionary"
   ]
  },
  {
   "cell_type": "code",
   "execution_count": 30,
   "id": "22fecf38",
   "metadata": {
    "execution": {
     "iopub.execute_input": "2024-05-03T12:52:39.470264Z",
     "iopub.status.busy": "2024-05-03T12:52:39.469531Z",
     "iopub.status.idle": "2024-05-03T12:52:39.773438Z",
     "shell.execute_reply": "2024-05-03T12:52:39.772250Z"
    },
    "papermill": {
     "duration": 0.399151,
     "end_time": "2024-05-03T12:52:39.776124",
     "exception": false,
     "start_time": "2024-05-03T12:52:39.376973",
     "status": "completed"
    },
    "tags": []
   },
   "outputs": [
    {
     "data": {
      "text/plain": [
       "[<matplotlib.lines.Line2D at 0x7e27fc442e90>]"
      ]
     },
     "execution_count": 30,
     "metadata": {},
     "output_type": "execute_result"
    },
    {
     "data": {
      "image/png": "[encoded data removed]",
      "text/plain": [
       "<Figure size 640x480 with 1 Axes>"
      ]
     },
     "metadata": {},
     "output_type": "display_data"
    }
   ],
   "source": [
    "plt.plot(history.history['loss'])\n",
    "plt.plot(history.history['val_loss'])"
   ]
  },
  {
   "cell_type": "code",
   "execution_count": 31,
   "id": "1f09531f",
   "metadata": {
    "execution": {
     "iopub.execute_input": "2024-05-03T12:52:39.960817Z",
     "iopub.status.busy": "2024-05-03T12:52:39.960422Z",
     "iopub.status.idle": "2024-05-03T12:52:40.189533Z",
     "shell.execute_reply": "2024-05-03T12:52:40.188389Z"
    },
    "papermill": {
     "duration": 0.324111,
     "end_time": "2024-05-03T12:52:40.191959",
     "exception": false,
     "start_time": "2024-05-03T12:52:39.867848",
     "status": "completed"
    },
    "tags": []
   },
   "outputs": [
    {
     "data": {
      "text/plain": [
       "[<matplotlib.lines.Line2D at 0x7e27fc3604c0>]"
      ]
     },
     "execution_count": 31,
     "metadata": {},
     "output_type": "execute_result"
    },
    {
     "data": {
      "image/png": "[encoded data removed]",
      "text/plain": [
       "<Figure size 640x480 with 1 Axes>"
      ]
     },
     "metadata": {},
     "output_type": "display_data"
    }
   ],
   "source": [
    "plt.plot(history.history['accuracy'])\n",
    "plt.plot(history.history['val_accuracy'])\n",
    "# close to overfitting"
   ]
  },
  {
   "cell_type": "code",
   "execution_count": null,
   "id": "2c8b1212",
   "metadata": {
    "papermill": {
     "duration": 0.09242,
     "end_time": "2024-05-03T12:52:40.378163",
     "exception": false,
     "start_time": "2024-05-03T12:52:40.285743",
     "status": "completed"
    },
    "tags": []
   },
   "outputs": [],
   "source": []
  }
 ],
 "metadata": {
  "kaggle": {
   "accelerator": "none",
   "dataSources": [
    {
     "datasetId": 869651,
     "sourceId": 1481789,
     "sourceType": "datasetVersion"
    }
   ],
   "dockerImageVersionId": 30698,
   "isGpuEnabled": false,
   "isInternetEnabled": true,
   "language": "python",
   "sourceType": "notebook"
  },
  "kernelspec": {
   "display_name": "Python 3",
   "language": "python",
   "name": "python3"
  },
  "language_info": {
   "codemirror_mode": {
    "name": "ipython",
    "version": 3
   },
   "file_extension": ".py",
   "mimetype": "text/x-python",
   "name": "python",
   "nbconvert_exporter": "python",
   "pygments_lexer": "ipython3",
   "version": "3.10.13"
  },
  "papermill": {
   "default_parameters": {},
   "duration": 68.214272,
   "end_time": "2024-05-03T12:52:42.749279",
   "environment_variables": {},
   "exception": null,
   "input_path": "__notebook__.ipynb",
   "output_path": "__notebook__.ipynb",
   "parameters": {},
   "start_time": "2024-05-03T12:51:34.535007",
   "version": "2.5.0"
  }
 },
 "nbformat": 4,
 "nbformat_minor": 5
}
